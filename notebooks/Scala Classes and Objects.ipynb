{
 "cells": [
  {
   "cell_type": "code",
   "execution_count": 1,
   "metadata": {},
   "outputs": [
    {
     "data": {
      "text/plain": [
       "defined \u001b[32mobject \u001b[36msingleTonClasses\u001b[0m"
      ]
     },
     "metadata": {},
     "output_type": "display_data"
    }
   ],
   "source": [
    "object singleTonClasses {\n",
    "  implicit class IntTimes(x: Int) {\n",
    "    def times [A](f: =>A): Unit = {\n",
    "      def loop(current: Int): Unit =\n",
    "\n",
    "        if(current > 0){\n",
    "          f\n",
    "          loop(current - 1)\n",
    "        }\n",
    "      loop(x)\n",
    "    }\n",
    "  }\n",
    "\n",
    "  def main(args: Array[String]) {\n",
    "    4 times println(\"hello\")\n",
    "  }\n",
    "\n",
    "}\n"
   ]
  },
  {
   "cell_type": "code",
   "execution_count": 2,
   "metadata": {},
   "outputs": [
    {
     "data": {
      "text/plain": [
       "defined \u001b[32mobject \u001b[36mscalaPatternMatching\u001b[0m"
      ]
     },
     "metadata": {},
     "output_type": "display_data"
    }
   ],
   "source": [
    "object scalaPatternMatching {\n",
    "  def main(args: Array[String]): Unit = {\n",
    "    try {\n",
    "      println(\"Try block\")\n",
    "\n",
    "      val inputVal = \"one\"\n",
    "\n",
    "      def patternMatcher(x: String) = inputVal match  {\n",
    "        case \"one\" => 1\n",
    "        case \"two\" => 2\n",
    "        case \"three\" => 3\n",
    "      }\n",
    "\n",
    "      println(s\"integer value for ${inputVal}\", patternMatcher(inputVal))\n",
    "\n",
    "    }\n",
    "    catch {\n",
    "      case unknown  : Throwable => println(\"unknown exception \", unknown )\n",
    "      case unknown => println(\"unknown exception \", unknown.printStackTrace )\n",
    "      //case  => e.printStackTrace\n",
    "    }\n",
    "    finally {\n",
    "      println(\"finally block\")\n",
    "    }\n",
    "\n",
    "  }\n",
    "\n",
    "}"
   ]
  },
  {
   "cell_type": "code",
   "execution_count": 3,
   "metadata": {},
   "outputs": [
    {
     "data": {
      "text/plain": [
       "defined \u001b[32mclass \u001b[36mPoint\u001b[0m\n",
       "defined \u001b[32mobject \u001b[36mclassDemo\u001b[0m"
      ]
     },
     "metadata": {},
     "output_type": "display_data"
    }
   ],
   "source": [
    "\n",
    "class Point(val xc: Int, val yc: Int) {\n",
    "  var x: Int = xc\n",
    "  var y: Int = yc\n",
    "\n",
    "  def move(dx: Int, dy: Int) {\n",
    "    x = x + dx\n",
    "    y = y + dy\n",
    "    println (\"Point x location : \" + x);\n",
    "    println (\"Point y location : \" + y);\n",
    "  }\n",
    "}\n",
    "\n",
    "object classDemo {\n",
    "  def main(args: Array[String]) {\n",
    "    val pt = new Point(10, 20);\n",
    "\n",
    "    // Move to a new location\n",
    "    pt.move(10, 10);\n",
    "  }\n",
    "}"
   ]
  },
  {
   "cell_type": "code",
   "execution_count": null,
   "metadata": {},
   "outputs": [],
   "source": []
  }
 ],
 "metadata": {
  "kernelspec": {
   "display_name": "Scala 2.11",
   "language": "scala211",
   "name": "scala211"
  },
  "language_info": {
   "codemirror_mode": "text/x-scala",
   "file_extension": ".scala",
   "mimetype": "text/x-scala",
   "name": "scala211",
   "pygments_lexer": "scala",
   "version": "2.11.6"
  }
 },
 "nbformat": 4,
 "nbformat_minor": 2
}
