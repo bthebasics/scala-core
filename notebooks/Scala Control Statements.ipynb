{
 "cells": [
  {
   "cell_type": "markdown",
   "metadata": {},
   "source": [
    "# **Scala Control Statements**\n",
    "\n",
    "### if else \n",
    "\n",
    "```scala\n",
    "if( x < 20 ){\n",
    "         println(\"This is if statement\");\n",
    "      } else {\n",
    "         println(\"This is else statement\");\n",
    "      }\n",
    "```\n",
    "\n",
    "\n",
    "\n",
    "### If-else-if-else\n",
    "\n",
    "```scala\n",
    "if(Boolean_expression 1){\n",
    "   //Executes when the Boolean expression 1 is true\n",
    "} else if(Boolean_expression 2){\n",
    "   //Executes when the Boolean expression 2 is true\n",
    "} else if(Boolean_expression 3){\n",
    "   //Executes when the Boolean expression 3 is true\n",
    "} else {\n",
    "   //Executes when the none of the above condition is true.\n",
    "}\n",
    "```\n",
    "\n",
    "### nested if \n",
    "\n",
    "```scala\n",
    "if( x == 30 ){\n",
    "         if( y == 10 ){\n",
    "            println(\"X = 30 and Y = 10\");\n",
    "         }\n",
    "      }\n",
    "```\n",
    "\n"
   ]
  },
  {
   "cell_type": "code",
   "execution_count": null,
   "metadata": {},
   "outputs": [],
   "source": [
    "val x = 15;"
   ]
  },
  {
   "cell_type": "code",
   "execution_count": 1,
   "metadata": {},
   "outputs": [
    {
     "ename": "",
     "evalue": "",
     "output_type": "error",
     "traceback": [
      "Compilation Failed",
      "\u001b[31mMain.scala:49: not found: value x\r",
      "if ( x < 20 ) {\r",
      "     ^\u001b[0m",
      "\u001b[31mMain.scala:50: not found: value x\r",
      "    print(s\" ${x} is less than 20\")\r",
      "               ^\u001b[0m",
      "\u001b[31mMain.scala:52: not found: value x\r",
      "    print(s\" ${x} is greater than 20\")\r",
      "               ^\u001b[0m"
     ]
    }
   ],
   "source": [
    "if ( x < 20 ) {\n",
    "    print(s\" ${x} is less than 20\")\n",
    "} else {\n",
    "    print(s\" ${x} is greater than 20\")\n",
    "}"
   ]
  },
  {
   "cell_type": "code",
   "execution_count": null,
   "metadata": {},
   "outputs": [],
   "source": [
    "if ( x < 10 ) {\n",
    " print(s\" ${x} is less than 10\")\n",
    "} else if ( x < 20 ) {\n",
    " print(s\" ${x} is less than 20\")\n",
    "} else {\n",
    "    print(s\" value of x = ${x}\")\n",
    "}"
   ]
  },
  {
   "cell_type": "markdown",
   "metadata": {},
   "source": [
    "## Loop Constructs\n",
    "\n",
    "### **while loop**\n",
    "\n",
    "```scala\n",
    " while( true ){\n",
    "         println( \"Value of a: \" + a );\n",
    "      }\n",
    "```\n",
    "\n",
    "### **for loop**\n",
    "\n",
    "```scala\n",
    "for( var x <- Range ){\n",
    "   statement(s);\n",
    "}\n",
    "```\n",
    "\n",
    "### **breaks**\n",
    "\n",
    "```scala\n",
    "import scala.util.control._\n",
    "\n",
    "val loop = new Breaks;\n",
    "\n",
    "// Keep the loop inside breakable as follows\n",
    "loop.breakable {\n",
    "   // Loop will go here\n",
    "   for(...){\n",
    "      ....\n",
    "      \n",
    "      // Break will go here\n",
    "      loop.break;\n",
    "   }\n",
    "}\n",
    "```\n",
    "\n"
   ]
  },
  {
   "cell_type": "code",
   "execution_count": 3,
   "metadata": {},
   "outputs": [
    {
     "data": {
      "text/plain": [
       "\u001b[36mcntr\u001b[0m: \u001b[32mInt\u001b[0m = \u001b[32m1\u001b[0m"
      ]
     },
     "metadata": {},
     "output_type": "display_data"
    }
   ],
   "source": [
    "var cntr = 1"
   ]
  },
  {
   "cell_type": "code",
   "execution_count": 4,
   "metadata": {
    "scrolled": true
   },
   "outputs": [
    {
     "name": "stdout",
     "output_type": "stream",
     "text": [
      "value of cntr = 1\n",
      "value of cntr = 2\n",
      "value of cntr = 3\n",
      "value of cntr = 4\n"
     ]
    },
    {
     "data": {
      "text/plain": []
     },
     "metadata": {},
     "output_type": "display_data"
    }
   ],
   "source": [
    "while ( cntr < 5 ){\n",
    "    println(s\"value of cntr = ${cntr}\")\n",
    "    cntr = cntr + 1;\n",
    "}"
   ]
  },
  {
   "cell_type": "code",
   "execution_count": 7,
   "metadata": {},
   "outputs": [
    {
     "name": "stdout",
     "output_type": "stream",
     "text": [
      "value of cntr = 1\n",
      "value of cntr = 2\n",
      "value of cntr = 3\n",
      "value of cntr = 4\n",
      "value of cntr = 5\n"
     ]
    },
    {
     "data": {
      "text/plain": [
       "\u001b[36mi\u001b[0m: \u001b[32mInt\u001b[0m = \u001b[32m0\u001b[0m"
      ]
     },
     "metadata": {},
     "output_type": "display_data"
    }
   ],
   "source": [
    "var i = 0\n",
    "\n",
    "for ( i <- ( 1 to 5)){\n",
    "        println(s\"value of cntr = ${i}\")\n",
    "}"
   ]
  },
  {
   "cell_type": "code",
   "execution_count": 6,
   "metadata": {},
   "outputs": [
    {
     "data": {
      "text/plain": [
       "\u001b[36mres3\u001b[0m: \u001b[32mcollection\u001b[0m.\u001b[32mimmutable\u001b[0m.\u001b[32mRange\u001b[0m.\u001b[32mInclusive\u001b[0m = \u001b[33mRange\u001b[0m(\u001b[32m1\u001b[0m, \u001b[32m2\u001b[0m, \u001b[32m3\u001b[0m, \u001b[32m4\u001b[0m, \u001b[32m5\u001b[0m)"
      ]
     },
     "metadata": {},
     "output_type": "display_data"
    }
   ],
   "source": [
    " 1 to 5"
   ]
  },
  {
   "cell_type": "code",
   "execution_count": 12,
   "metadata": {},
   "outputs": [
    {
     "name": "stdout",
     "output_type": "stream",
     "text": [
      "value of a = 1\n",
      "value of a = 2\n",
      "value of a = 3\n",
      "value of a = 4\n",
      "value of a = 5\n",
      "value of a = 6\n",
      "value of a = 7\n",
      "Loop break -> value of a = 7\n"
     ]
    },
    {
     "data": {
      "text/plain": [
       "\u001b[32mimport \u001b[36mscala.util.control._\u001b[0m\n",
       "\u001b[36mloop\u001b[0m: \u001b[32mBreaks\u001b[0m = scala.util.control.Breaks@29180778\n",
       "\u001b[36mnumList\u001b[0m: \u001b[32mList\u001b[0m[\u001b[32mInt\u001b[0m] = \u001b[33mList\u001b[0m(\u001b[32m1\u001b[0m, \u001b[32m2\u001b[0m, \u001b[32m3\u001b[0m, \u001b[32m4\u001b[0m, \u001b[32m5\u001b[0m, \u001b[32m6\u001b[0m, \u001b[32m7\u001b[0m, \u001b[32m8\u001b[0m)"
      ]
     },
     "metadata": {},
     "output_type": "display_data"
    }
   ],
   "source": [
    "import scala.util.control._\n",
    "\n",
    "val loop = new Breaks;\n",
    "val numList = List(1,2,3,4,5,6,7,8)\n",
    "\n",
    "loop.breakable {\n",
    "    for ( a <- numList){\n",
    "        println(s\"value of a = ${a}\")\n",
    "        \n",
    "        if ( a == 7 ){\n",
    "            println(s\"Loop break -> value of a = ${a}\")\n",
    "            loop.break\n",
    "        }\n",
    "    }\n",
    "}"
   ]
  },
  {
   "cell_type": "markdown",
   "metadata": {},
   "source": [
    "# functions\n",
    "\n",
    "function definations\n",
    "\n",
    "```scala\n",
    "def functionName ([list of parameters]) : [return type] = {\n",
    "   function body\n",
    "   return [expr]\n",
    "}\n",
    "```\n",
    "\n",
    "### Anonymous Functions\n",
    "\n",
    "```scala\n",
    "var mul = (x: Int, y: Int) => x*y\n",
    "println(mul(3, 4))\n",
    "\n",
    "var userDir = () => { System.getProperty(\"user.dir\") }\n",
    "```\n",
    "\n",
    "### Currying Functions\n",
    "\n",
    "Currying transforms a function that takes multiple parameters into a chain of functions, each taking a single parameter\n",
    "\n",
    "```scala\n",
    "def strcat(s1: String) = (s2: String) => s1 + s2\n",
    " strcat(str1)(str2) \n",
    "```\n",
    "\n",
    "### Nested Functions\n",
    "\n",
    "Scala allows you to define functions inside a function and functions defined inside other functions are called **local functions**.\n",
    "\n",
    "```scala\n",
    "println( factorial(3) )\n",
    "\n",
    "def factorial(i: Int): Int = {\n",
    "      def fact(i: Int, accumulator: Int): Int = {\n",
    "         if (i <= 1)\n",
    "            accumulator\n",
    "         else\n",
    "            fact(i - 1, i * accumulator)\n",
    "      }\n",
    "      fact(i, 1)\n",
    "   }\n",
    "```\n",
    "\n",
    "### Default Parameter Values for a Function\n",
    "\n",
    "```scala\n",
    "def addInt( a:Int = 5, b:Int = 7 ) : Int = {\n",
    "      var sum:Int = 0\n",
    "      sum = a + b\n",
    "\n",
    "      return sum\n",
    "   }\n",
    "\n",
    "addInt()\n",
    "\n",
    "```\n",
    "\n",
    "\n",
    "\n",
    "Scala - Functions with Named Arguments\n",
    "\n",
    "Recursion means a function can call itself repeatedly.\n",
    "\n",
    "```scala\n",
    "for (i <- 1 to 10)\n",
    "         println( \"Factorial of \" + i + \": = \" + factorial(i) )\n",
    "   }\n",
    "   \n",
    "   def factorial(n: BigInt): BigInt = {  \n",
    "      if (n <= 1)\n",
    "         1  \n",
    "      else    \n",
    "      n * factorial(n - 1)\n",
    "   }\n",
    "```\n",
    "\n",
    "### Scala - Functions with Named Arguments\n",
    "\n",
    "```scala\n",
    "def printInt( a:Int, b:Int ) = {\n",
    "      println(\"Value of a : \" + a );\n",
    "      println(\"Value of b : \" + b );\n",
    "   }\n",
    "   \n",
    "   printInt(b = 5, a = 7);\n",
    "```\n",
    "\n",
    "### Scala - Partially Applied Functions\n",
    "\n",
    "When you invoke a function, you're said to be applying the function to the arguments. If you pass all the expected arguments, you have fully applied it. If you send only a few arguments, then you get back a partially applied function. This gives you the convenience of binding some arguments and leaving the rest to be filled in later.\n",
    "\n",
    "```scala\n",
    "import java.util.Date\n",
    "\n",
    "\n",
    "      val date = new Date\n",
    "      log(date, \"message1\" )\n",
    "      \n",
    "      Thread.sleep(1000)\n",
    "      log(date, \"message2\" )\n",
    "      \n",
    "      Thread.sleep(1000)\n",
    "      log(date, \"message3\" )\n",
    "   }\n",
    "\n",
    "   def log(date: Date, message: String)  = {\n",
    "      println(date + \"----\" + message)\n",
    "\n",
    "```"
   ]
  },
  {
   "cell_type": "code",
   "execution_count": 13,
   "metadata": {},
   "outputs": [
    {
     "name": "stdout",
     "output_type": "stream",
     "text": [
      "6\n"
     ]
    },
    {
     "data": {
      "text/plain": [
       "defined \u001b[32mfunction \u001b[36mfactorial\u001b[0m"
      ]
     },
     "metadata": {},
     "output_type": "display_data"
    }
   ],
   "source": [
    "println( factorial(3) )\n",
    "\n",
    "def factorial(i: Int): Int = {\n",
    "      def fact(i: Int, accumulator: Int): Int = {\n",
    "         if (i <= 1)\n",
    "            accumulator\n",
    "         else\n",
    "            fact(i - 1, i * accumulator)\n",
    "      }\n",
    "      fact(i, 1)\n",
    "   }sfazer6ed 6"
   ]
  },
  {
   "cell_type": "markdown",
   "metadata": {},
   "source": []
  },
  {
   "cell_type": "markdown",
   "metadata": {},
   "source": [
    "### Scala - Closures\n",
    "\n",
    "A **closure** is a function, whose return value depends on the value of one or more variables declared outside this function.\n",
    "\n",
    "```scala\n",
    "val multiplier = (i:Int) => i * factor\n",
    "```\n",
    "\n",
    "```scala\n",
    "var factor = 3\n",
    "val multiplier = (i:Int) => i * factor\n",
    "\n",
    "println( \"multiplier(2) value = \" +  multiplier(2) )\n",
    "\n",
    "```"
   ]
  },
  {
   "cell_type": "code",
   "execution_count": null,
   "metadata": {},
   "outputs": [],
   "source": []
  }
 ],
 "metadata": {
  "kernelspec": {
   "display_name": "Scala 2.11",
   "language": "scala211",
   "name": "scala211"
  },
  "language_info": {
   "codemirror_mode": "text/x-scala",
   "file_extension": ".scala",
   "mimetype": "text/x-scala",
   "name": "scala211",
   "pygments_lexer": "scala",
   "version": "2.11.6"
  }
 },
 "nbformat": 4,
 "nbformat_minor": 2
}
