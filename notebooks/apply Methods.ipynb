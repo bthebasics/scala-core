{
 "cells": [
  {
   "cell_type": "code",
   "execution_count": 2,
   "metadata": {},
   "outputs": [
    {
     "data": {
      "text/plain": [
       "defined \u001b[32mobject \u001b[36mGreet\u001b[0m\n",
       "\u001b[36mres1_1\u001b[0m: \u001b[32mString\u001b[0m = \u001b[32m\"Hello Bob\"\u001b[0m\n",
       "\u001b[36mres1_2\u001b[0m: \u001b[32mString\u001b[0m = \u001b[32m\"Hello Tom\"\u001b[0m"
      ]
     },
     "metadata": {},
     "output_type": "display_data"
    }
   ],
   "source": [
    "object Greet {\n",
    "    \n",
    "    def apply(name:String): String = {\n",
    "        \"Hello %s\".format(name)\n",
    "    }\n",
    "}\n",
    "\n",
    "Greet.apply(\"Bob\")\n",
    "Greet(\"Tom\")"
   ]
  },
  {
   "cell_type": "code",
   "execution_count": 3,
   "metadata": {},
   "outputs": [
    {
     "data": {
      "text/plain": [
       "defined \u001b[32mclass \u001b[36mCompany\u001b[0m\n",
       "defined \u001b[32mclass \u001b[36mPerson\u001b[0m\n",
       "defined \u001b[32mobject \u001b[36mPerson\u001b[0m\n",
       "\u001b[36mc\u001b[0m: \u001b[32m$user\u001b[0m.\u001b[32mCompany\u001b[0m = \u001b[33mCompany\u001b[0m(\u001b[32m\"Bob\"\u001b[0m)"
      ]
     },
     "metadata": {},
     "output_type": "display_data"
    }
   ],
   "source": [
    "case class Company(name:String)\n",
    "\n",
    "class Person(val name : String) {}\n",
    "\n",
    "object Person {\n",
    "    def apply(name:String):Company = new Company(name)\n",
    "}\n",
    "\n",
    "val c = Person(\"Bob\")"
   ]
  },
  {
   "cell_type": "markdown",
   "metadata": {},
   "source": [
    "### Apply Functions are used for Anonymous Functions"
   ]
  },
  {
   "cell_type": "code",
   "execution_count": 6,
   "metadata": {},
   "outputs": [
    {
     "data": {
      "text/plain": [
       "\u001b[36mfunc\u001b[0m: \u001b[32mString\u001b[0m => \u001b[32mString\u001b[0m = <function1>\n",
       "\u001b[36mres5_1\u001b[0m: \u001b[32mString\u001b[0m = \u001b[32m\"hello.world\"\u001b[0m"
      ]
     },
     "metadata": {},
     "output_type": "display_data"
    }
   ],
   "source": [
    "val func = (x:String) => \"hello.%s\".format(x)\n",
    "func(\"world\")"
   ]
  },
  {
   "cell_type": "code",
   "execution_count": 7,
   "metadata": {},
   "outputs": [
    {
     "data": {
      "text/plain": [
       "\u001b[36mres6\u001b[0m: \u001b[32mString\u001b[0m = \u001b[32m\"hello.world\"\u001b[0m"
      ]
     },
     "metadata": {},
     "output_type": "display_data"
    }
   ],
   "source": [
    "func.apply(\"world\")"
   ]
  },
  {
   "cell_type": "code",
   "execution_count": 8,
   "metadata": {},
   "outputs": [
    {
     "data": {
      "text/plain": [
       "defined \u001b[32mclass \u001b[36mFoo\u001b[0m\n",
       "defined \u001b[32mobject \u001b[36mAnonymousClassTest1\u001b[0m"
      ]
     },
     "metadata": {},
     "output_type": "display_data"
    }
   ],
   "source": [
    "case class Foo[A, B](f: A => B) {\n",
    "    println(s\"f = $f\")  //printed 1st\n",
    "}\n",
    "\n",
    "object AnonymousClassTest1 extends App {\n",
    "\n",
    "    val f1 = Foo { i: Int =>\n",
    "        // printed 2nd\n",
    "        println(\"hello from the anonymous function\")\n",
    "        i * 2\n",
    "    }\n",
    "\n",
    "    // printed 3rd\n",
    "    val result = f1.f(10)\n",
    "    println(s\"result = $result\")\n",
    "\n",
    "}"
   ]
  },
  {
   "cell_type": "code",
   "execution_count": 9,
   "metadata": {},
   "outputs": [
    {
     "data": {
      "text/plain": [
       "\u001b[36mmyPoint\u001b[0m: {val x: Int;val y: Int} = cmd8$$user$$anonfun$1$$anon$1@5da81e7e"
      ]
     },
     "metadata": {},
     "output_type": "display_data"
    }
   ],
   "source": [
    "val myPoint = new{ val x = 1; val y = 2 }"
   ]
  },
  {
   "cell_type": "code",
   "execution_count": 10,
   "metadata": {},
   "outputs": [
    {
     "data": {
      "text/plain": [
       "defined \u001b[32mtrait \u001b[36mAnonymousHero\u001b[0m\n",
       "\u001b[36mmyHero\u001b[0m: \u001b[32mAnyRef\u001b[0m with \u001b[32m$user\u001b[0m.\u001b[32mAnonymousHero\u001b[0m = cmd9$$user$$anonfun$2$$anon$1@1b475367"
      ]
     },
     "metadata": {},
     "output_type": "display_data"
    }
   ],
   "source": [
    "trait AnonymousHero {\n",
    "  def superpower: String\n",
    "}\n",
    " \n",
    "val myHero = new AnonymousHero {\n",
    "  def superpower = \"I can compile Scala with my brain\"\n",
    "}"
   ]
  },
  {
   "cell_type": "code",
   "execution_count": 11,
   "metadata": {},
   "outputs": [
    {
     "data": {
      "text/plain": [
       "\u001b[36mres10\u001b[0m: \u001b[32mString\u001b[0m = \u001b[32m\"I can compile Scala with my brain\"\u001b[0m"
      ]
     },
     "metadata": {},
     "output_type": "display_data"
    }
   ],
   "source": [
    "myHero.superpower"
   ]
  },
  {
   "cell_type": "code",
   "execution_count": null,
   "metadata": {},
   "outputs": [],
   "source": []
  }
 ],
 "metadata": {
  "kernelspec": {
   "display_name": "Scala 2.11",
   "language": "scala211",
   "name": "scala211"
  },
  "language_info": {
   "codemirror_mode": "text/x-scala",
   "file_extension": ".scala",
   "mimetype": "text/x-scala",
   "name": "scala211",
   "pygments_lexer": "scala",
   "version": "2.11.6"
  }
 },
 "nbformat": 4,
 "nbformat_minor": 2
}
