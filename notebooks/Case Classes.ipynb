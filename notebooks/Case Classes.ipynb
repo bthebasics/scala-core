{
 "cells": [
  {
   "cell_type": "markdown",
   "metadata": {},
   "source": [
    "#### Case Classes\n",
    "\n",
    "When you define any class with keyword \"case\" , it assumes the parameter of the fields are immutable.\n",
    "Also they can be used in List, Arrays and Vectors\n",
    "\n",
    "It creates companion object of the same name, it allows to create instances of the object without new keyword."
   ]
  },
  {
   "cell_type": "code",
   "execution_count": 7,
   "metadata": {},
   "outputs": [
    {
     "data": {
      "text/plain": [
       "defined \u001b[32mclass \u001b[36mPerson\u001b[0m\n",
       "defined \u001b[32mobject \u001b[36mPersonDtls\u001b[0m"
      ]
     },
     "metadata": {},
     "output_type": "display_data"
    }
   ],
   "source": [
    "case class Person(name: String, age: Int)\n",
    "\n",
    "object PersonDtls extends App{\n",
    "    \n",
    "    val bob = Person(\"Bob\",50)\n",
    "    val Alice = Person(\"Alice\",35)\n",
    "    val Donny = Person(\"Donald\",22)\n",
    "    \n",
    "    for(prson <- List(bob, Alice, Donny)) {\n",
    "        prson match {\n",
    "        case Person(\"Bob\",50) => println(\"Bob\")\n",
    "        case Person(\"Alice\",35) => println(\"Alice\")\n",
    "        case Person(\"Donald\",22) => println(\"Donald\")\n",
    "        }\n",
    "    }    \n",
    "}"
   ]
  },
  {
   "cell_type": "code",
   "execution_count": null,
   "metadata": {},
   "outputs": [],
   "source": []
  },
  {
   "cell_type": "code",
   "execution_count": null,
   "metadata": {},
   "outputs": [],
   "source": []
  }
 ],
 "metadata": {
  "kernelspec": {
   "display_name": "Scala 2.11",
   "language": "scala211",
   "name": "scala211"
  },
  "language_info": {
   "codemirror_mode": "text/x-scala",
   "file_extension": ".scala",
   "mimetype": "text/x-scala",
   "name": "scala211",
   "pygments_lexer": "scala",
   "version": "2.11.6"
  }
 },
 "nbformat": 4,
 "nbformat_minor": 2
}
