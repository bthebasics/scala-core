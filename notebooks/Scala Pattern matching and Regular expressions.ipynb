{
 "cells": [
  {
   "cell_type": "markdown",
   "metadata": {},
   "source": [
    "### Scala - Pattern Matching\n",
    "\n",
    "A pattern match includes a sequence of alternatives, each starting with the keyword **case**. Each alternative includes a **pattern** and one or more **expressions**, which will be evaluated if the pattern matches. An arrow symbol => separates the pattern from the expressions.\n",
    "\n",
    "```scala\n",
    "println(matchTest(3))\n",
    "  \n",
    "   def matchTest(x: Int): String = x match {\n",
    "      case 1 => \"one\"\n",
    "      case 2 => \"two\"\n",
    "      case _ => \"many\"\n",
    "   }\n",
    "\n",
    "// alternate defination\n",
    "\n",
    "   def matchTest(x: Any): Any = x match {\n",
    "      case 1 => \"one\"\n",
    "      case \"two\" => 2\n",
    "      case y: Int => \"scala.Int\"\n",
    "      case _ => \"many\"\n",
    "   }\n",
    "```"
   ]
  },
  {
   "cell_type": "code",
   "execution_count": 1,
   "metadata": {},
   "outputs": [
    {
     "name": "stdout",
     "output_type": "stream",
     "text": [
      "others\n"
     ]
    },
    {
     "data": {
      "text/plain": [
       "defined \u001b[32mfunction \u001b[36mpatMatch\u001b[0m"
      ]
     },
     "metadata": {},
     "output_type": "display_data"
    }
   ],
   "source": [
    "def patMatch( x: Int ): String = x match {\n",
    "    case 1 => \"one\"\n",
    "    case 2 => \"two\"\n",
    "    case _ => \"others\"\n",
    "}\n",
    "\n",
    "println(patMatch(7))"
   ]
  },
  {
   "cell_type": "code",
   "execution_count": 7,
   "metadata": {
    "scrolled": true
   },
   "outputs": [
    {
     "data": {
      "text/plain": [
       "\u001b[32mimport \u001b[36mjava.util.Date\u001b[0m\n",
       "defined \u001b[32mfunction \u001b[36mmatchTesting\u001b[0m\n",
       "\u001b[36mres4_2\u001b[0m: \u001b[32mAny\u001b[0m = others"
      ]
     },
     "metadata": {},
     "output_type": "display_data"
    }
   ],
   "source": [
    "import java.util.Date\n",
    "\n",
    "def matchTesting(x: Any): Any = x match {\n",
    "    case 1 => \"one\"\n",
    "    case \"two\" => 2 \n",
    "    case y:Int => \"scala.Int\"\n",
    "    case _ => \"others\"\n",
    "}\n",
    "matchTesting(new Date)"
   ]
  },
  {
   "cell_type": "code",
   "execution_count": 8,
   "metadata": {},
   "outputs": [
    {
     "name": "stdout",
     "output_type": "stream",
     "text": [
      "Some(Scala)\n"
     ]
    },
    {
     "data": {
      "text/plain": [
       "\u001b[32mimport \u001b[36mscala.util.matching.Regex\u001b[0m\n",
       "\u001b[36mpattern\u001b[0m: \u001b[32mutil\u001b[0m.\u001b[32mmatching\u001b[0m.\u001b[32mRegex\u001b[0m = Scala\n",
       "\u001b[36mstr\u001b[0m: \u001b[32mString\u001b[0m = \u001b[32m\"Scala is Scalable and cool\"\u001b[0m"
      ]
     },
     "metadata": {},
     "output_type": "display_data"
    }
   ],
   "source": [
    "import scala.util.matching.Regex\n",
    "\n",
    "      val pattern = \"Scala\".r\n",
    "      val str = \"Scala is Scalable and cool\"\n",
    "      \n",
    "      println(pattern findFirstIn str)\n"
   ]
  },
  {
   "cell_type": "code",
   "execution_count": 10,
   "metadata": {},
   "outputs": [
    {
     "name": "stdout",
     "output_type": "stream",
     "text": [
      "Scala,scala\n"
     ]
    },
    {
     "data": {
      "text/plain": [
       "\u001b[32mimport \u001b[36mscala.util.matching.Regex\u001b[0m\n",
       "\u001b[36mpattern\u001b[0m: \u001b[32mRegex\u001b[0m = (S|s)cala\n",
       "\u001b[36mstr\u001b[0m: \u001b[32mString\u001b[0m = \u001b[32m\"Scala is scalable and cool\"\u001b[0m"
      ]
     },
     "metadata": {},
     "output_type": "display_data"
    }
   ],
   "source": [
    "import scala.util.matching.Regex\n",
    "\n",
    "      val pattern = new Regex(\"(S|s)cala\")\n",
    "      val str = \"Scala is scalable and cool\"\n",
    "      \n",
    "      println((pattern findAllIn str).mkString(\",\"))\n"
   ]
  },
  {
   "cell_type": "code",
   "execution_count": null,
   "metadata": {},
   "outputs": [],
   "source": []
  }
 ],
 "metadata": {
  "kernelspec": {
   "display_name": "Scala 2.11",
   "language": "scala211",
   "name": "scala211"
  },
  "language_info": {
   "codemirror_mode": "text/x-scala",
   "file_extension": ".scala",
   "mimetype": "text/x-scala",
   "name": "scala211",
   "pygments_lexer": "scala",
   "version": "2.11.6"
  }
 },
 "nbformat": 4,
 "nbformat_minor": 2
}
