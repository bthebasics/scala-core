{
 "cells": [
  {
   "cell_type": "markdown",
   "metadata": {},
   "source": [
    "# Scala Collections\n",
    "\n",
    "### Scala Lists\n",
    "\n",
    "Scala Lists are quite similar to arrays which means, all the elements of a list have the same type but there are two important differences. \n",
    "\n",
    "```scala\n",
    "// List of Strings\n",
    "val fruit: List[String] = List(\"apples\", \"oranges\", \"pears\")\n",
    "\n",
    "// List of Integers\n",
    "val nums: List[Int] = List(1, 2, 3, 4)\n",
    "\n",
    "// Empty List.\n",
    "val empty: List[Nothing] = List()\n",
    "\n",
    "// Two dimensional list\n",
    "val dim: List[List[Int]] =\n",
    "   List(\n",
    "      List(1, 0, 0),\n",
    "      List(0, 1, 0),\n",
    "      List(0, 0, 1)\n",
    "   )\n",
    "```"
   ]
  },
  {
   "cell_type": "code",
   "execution_count": 4,
   "metadata": {},
   "outputs": [
    {
     "data": {
      "text/plain": [
       "\u001b[36mx\u001b[0m: \u001b[32mList\u001b[0m[\u001b[32mInt\u001b[0m] = \u001b[33mList\u001b[0m(\u001b[32m1\u001b[0m, \u001b[32m2\u001b[0m, \u001b[32m3\u001b[0m, \u001b[32m4\u001b[0m, \u001b[32m5\u001b[0m)\n",
       "\u001b[36mres3_1\u001b[0m: \u001b[32mList\u001b[0m[\u001b[32mInt\u001b[0m] = \u001b[33mList\u001b[0m(\u001b[32m5\u001b[0m, \u001b[32m4\u001b[0m, \u001b[32m3\u001b[0m, \u001b[32m2\u001b[0m, \u001b[32m1\u001b[0m)\n",
       "\u001b[36mres3_2\u001b[0m: \u001b[32mcollection\u001b[0m.\u001b[32mimmutable\u001b[0m.\u001b[32mSeq\u001b[0m[\u001b[32mInt\u001b[0m] = \u001b[33mList\u001b[0m(\u001b[32m1\u001b[0m, \u001b[32m2\u001b[0m, \u001b[32m3\u001b[0m, \u001b[32m4\u001b[0m, \u001b[32m5\u001b[0m)\n",
       "\u001b[36mstr1\u001b[0m: \u001b[32mList\u001b[0m[\u001b[32mString\u001b[0m] = \u001b[33mList\u001b[0m(\u001b[32m\"Str1\"\u001b[0m, \u001b[32m\"Str2\"\u001b[0m, \u001b[32m\"Str3\"\u001b[0m)"
      ]
     },
     "metadata": {},
     "output_type": "display_data"
    }
   ],
   "source": [
    "val x = List(1,2,3,4,5)\n",
    "\n",
    "x.reverse\n",
    "\n",
    "x.toSeq\n",
    "\n",
    "val str1 = List(\"Str1\", \"Str2\", \"Str3\")"
   ]
  },
  {
   "cell_type": "markdown",
   "metadata": {},
   "source": [
    "### Scala - Sets\n",
    "\n",
    "Scala Set is a collection of pairwise different elements of the same type. In other words, a Set is a collection that contains no duplicate elements. There are two kinds of Sets, the **immutable** and the **mutable**.\n",
    "\n",
    "```scala\n",
    "// Empty set of integer type\n",
    "var s : Set[Int] = Set()\n",
    "\n",
    "// Set of integer type\n",
    "var s : Set[Int] = Set(1,3,5,7)\n",
    "\n",
    "or \n",
    "\n",
    "var s = Set(1,3,5,7)\n",
    "```"
   ]
  },
  {
   "cell_type": "code",
   "execution_count": 6,
   "metadata": {},
   "outputs": [
    {
     "data": {
      "text/plain": [
       "\u001b[36ms\u001b[0m: \u001b[32mSet\u001b[0m[\u001b[32mInt\u001b[0m] = \u001b[33mSet\u001b[0m(\u001b[32m5\u001b[0m, \u001b[32m1\u001b[0m, \u001b[32m2\u001b[0m, \u001b[32m3\u001b[0m, \u001b[32m4\u001b[0m)"
      ]
     },
     "metadata": {},
     "output_type": "display_data"
    }
   ],
   "source": [
    "var s : Set[Int] = Set(1,2,3,4,5)"
   ]
  },
  {
   "cell_type": "code",
   "execution_count": 7,
   "metadata": {},
   "outputs": [
    {
     "data": {
      "text/plain": [
       "\u001b[36mnumsEmpty\u001b[0m: \u001b[32mSet\u001b[0m[\u001b[32mNothing\u001b[0m] = Set()"
      ]
     },
     "metadata": {},
     "output_type": "display_data"
    }
   ],
   "source": [
    "val numsEmpty = Set()"
   ]
  },
  {
   "cell_type": "code",
   "execution_count": 10,
   "metadata": {},
   "outputs": [
    {
     "data": {
      "text/plain": [
       "\u001b[36mS1\u001b[0m: \u001b[32mSet\u001b[0m[\u001b[32mString\u001b[0m] = \u001b[33mSet\u001b[0m(\u001b[32m\"apples\"\u001b[0m, \u001b[32m\"oranges\"\u001b[0m, \u001b[32m\"berries\"\u001b[0m)\n",
       "\u001b[36mS2\u001b[0m: \u001b[32mSet\u001b[0m[\u001b[32mString\u001b[0m] = \u001b[33mSet\u001b[0m(\u001b[32m\"apples\"\u001b[0m, \u001b[32m\"watermelon\"\u001b[0m, \u001b[32m\"berries\"\u001b[0m)\n",
       "\u001b[36mres9_2\u001b[0m: \u001b[32mBoolean\u001b[0m = true"
      ]
     },
     "metadata": {},
     "output_type": "display_data"
    }
   ],
   "source": [
    "val S1 : Set[String] = Set(\"apples\", \"oranges\", \"berries\")\n",
    "val S2 : Set[String] = Set(\"apples\", \"watermelon\", \"berries\")\n",
    "S1.contains(\"apples\")"
   ]
  },
  {
   "cell_type": "code",
   "execution_count": 11,
   "metadata": {},
   "outputs": [
    {
     "data": {
      "text/plain": [
       "\u001b[36mres10\u001b[0m: \u001b[32mSet\u001b[0m[\u001b[32mString\u001b[0m] = \u001b[33mSet\u001b[0m(\u001b[32m\"apples\"\u001b[0m, \u001b[32m\"oranges\"\u001b[0m, \u001b[32m\"berries\"\u001b[0m, \u001b[32m\"watermelon\"\u001b[0m)"
      ]
     },
     "metadata": {},
     "output_type": "display_data"
    }
   ],
   "source": [
    "S1.++(S2)"
   ]
  },
  {
   "cell_type": "markdown",
   "metadata": {},
   "source": [
    "### Maps\n",
    "\n",
    "Scala map is a collection of key/value pairs. Any value can be retrieved based on its key. Keys are unique in the Map\n",
    "\n",
    "```scala\n",
    "// Empty hash table whose keys are strings and values are integers:\n",
    "var A:Map[Char,Int] = Map()\n",
    "\n",
    "// A map with keys and values.\n",
    "val colors = Map(\"red\" -> \"#FF0000\", \"azure\" -> \"#F0FFFF\")\n",
    "```\n",
    "\n"
   ]
  },
  {
   "cell_type": "code",
   "execution_count": 1,
   "metadata": {},
   "outputs": [
    {
     "data": {
      "text/plain": [
       "\u001b[36mx\u001b[0m: \u001b[32mMap\u001b[0m[\u001b[32mString\u001b[0m, \u001b[32mString\u001b[0m] = \u001b[33mMap\u001b[0m(\u001b[32m\"a\"\u001b[0m -> \u001b[32m\"b\"\u001b[0m)"
      ]
     },
     "metadata": {},
     "output_type": "display_data"
    }
   ],
   "source": [
    "var x: Map[String, String] = Map(\"a\" -> \"b\")"
   ]
  },
  {
   "cell_type": "code",
   "execution_count": 12,
   "metadata": {},
   "outputs": [
    {
     "data": {
      "text/plain": [
       "\u001b[36mx\u001b[0m: \u001b[32mMap\u001b[0m[\u001b[32mNothing\u001b[0m, \u001b[32mNothing\u001b[0m] = \u001b[33mMap\u001b[0m()"
      ]
     },
     "metadata": {},
     "output_type": "display_data"
    }
   ],
   "source": [
    "var x = Map()"
   ]
  },
  {
   "cell_type": "code",
   "execution_count": 2,
   "metadata": {},
   "outputs": [
    {
     "data": {
      "text/plain": [
       "\u001b[36mres1\u001b[0m: \u001b[32mIterable\u001b[0m[\u001b[32mString\u001b[0m] = \u001b[33mSet\u001b[0m(\u001b[32m\"a\"\u001b[0m)"
      ]
     },
     "metadata": {},
     "output_type": "display_data"
    }
   ],
   "source": [
    "x.keys"
   ]
  },
  {
   "cell_type": "code",
   "execution_count": 3,
   "metadata": {},
   "outputs": [
    {
     "data": {
      "text/plain": [
       "\u001b[36mres2\u001b[0m: \u001b[32mBoolean\u001b[0m = false"
      ]
     },
     "metadata": {},
     "output_type": "display_data"
    }
   ],
   "source": [
    "x.isEmpty"
   ]
  },
  {
   "cell_type": "code",
   "execution_count": 4,
   "metadata": {},
   "outputs": [
    {
     "data": {
      "text/plain": [
       "\u001b[36mcolors\u001b[0m: \u001b[32mMap\u001b[0m[\u001b[32mString\u001b[0m, \u001b[32mString\u001b[0m] = \u001b[33mMap\u001b[0m(\n",
       "  \u001b[32m\"red\"\u001b[0m -> \u001b[32m\"#FF0000\"\u001b[0m,\n",
       "  \u001b[32m\"azure\"\u001b[0m -> \u001b[32m\"#F0FFFF\"\u001b[0m,\n",
       "  \u001b[32m\"peru\"\u001b[0m -> \u001b[32m\"#CD853F\"\u001b[0m\n",
       ")"
      ]
     },
     "metadata": {},
     "output_type": "display_data"
    }
   ],
   "source": [
    "      val colors = Map(\"red\" -> \"#FF0000\", \"azure\" -> \"#F0FFFF\", \"peru\" -> \"#CD853F\")\n"
   ]
  },
  {
   "cell_type": "markdown",
   "metadata": {},
   "source": [
    "### Tuples\n",
    "\n",
    "Scala tuple combines a fixed number of items together so that they can be passed around as a whole.\n",
    "\n",
    "\n",
    "\n",
    "```scala\n",
    "val t = (1, \"hello\", Console)\n",
    "val t = new Tuple3(1, \"hello\", Console)\n",
    "\n",
    "val t = (4,3,2,1)\n",
    "val sum = t._1 + t._2 + t._3 + t._4\n",
    "\n",
    "val t = (4,3,2,1)\n",
    "t.productIterator.foreach{ i =>println(\"Value = \" + i )}\n",
    "\n",
    "```"
   ]
  },
  {
   "cell_type": "code",
   "execution_count": 6,
   "metadata": {},
   "outputs": [
    {
     "data": {
      "text/plain": [
       "\u001b[36mt\u001b[0m: (\u001b[32mInt\u001b[0m, \u001b[32mString\u001b[0m, \u001b[32mFloat\u001b[0m) = \u001b[33m\u001b[0m(\u001b[32m1\u001b[0m, \u001b[32m\"hello\"\u001b[0m, \u001b[32m1.2\u001b[0mF)"
      ]
     },
     "metadata": {},
     "output_type": "display_data"
    }
   ],
   "source": [
    "var t = (1, \"hello\", 1.2f)"
   ]
  },
  {
   "cell_type": "code",
   "execution_count": 7,
   "metadata": {},
   "outputs": [
    {
     "data": {
      "text/plain": [
       "\u001b[36mf\u001b[0m: (\u001b[32mInt\u001b[0m, \u001b[32mString\u001b[0m, \u001b[32mBoolean\u001b[0m) = \u001b[33m\u001b[0m(\u001b[32m1\u001b[0m, \u001b[32m\"hello\"\u001b[0m, true)"
      ]
     },
     "metadata": {},
     "output_type": "display_data"
    }
   ],
   "source": [
    "var f = Tuple3(1,\"hello\", true)"
   ]
  },
  {
   "cell_type": "code",
   "execution_count": 13,
   "metadata": {},
   "outputs": [
    {
     "name": "stdout",
     "output_type": "stream",
     "text": [
      "Value = 4\n",
      "Value = 3\n",
      "Value = 2\n",
      "Value = 1\n"
     ]
    },
    {
     "data": {
      "text/plain": [
       "\u001b[36mt\u001b[0m: (\u001b[32mInt\u001b[0m, \u001b[32mInt\u001b[0m, \u001b[32mInt\u001b[0m, \u001b[32mInt\u001b[0m) = \u001b[33m\u001b[0m(\u001b[32m4\u001b[0m, \u001b[32m3\u001b[0m, \u001b[32m2\u001b[0m, \u001b[32m1\u001b[0m)"
      ]
     },
     "metadata": {},
     "output_type": "display_data"
    }
   ],
   "source": [
    "val t = (4,3,2,1)\n",
    "t.productIterator.foreach{ i =>println(\"Value = \" + i )}"
   ]
  },
  {
   "cell_type": "code",
   "execution_count": 16,
   "metadata": {},
   "outputs": [
    {
     "name": "stdout",
     "output_type": "stream",
     "text": [
      "12\n",
      "3\n",
      "4\n"
     ]
    },
    {
     "data": {
      "text/plain": [
       "\u001b[36mf1\u001b[0m: (\u001b[32mInt\u001b[0m, \u001b[32mInt\u001b[0m, \u001b[32mInt\u001b[0m) = \u001b[33m\u001b[0m(\u001b[32m12\u001b[0m, \u001b[32m3\u001b[0m, \u001b[32m4\u001b[0m)"
      ]
     },
     "metadata": {},
     "output_type": "display_data"
    }
   ],
   "source": [
    "val f1 = (12,3,4)\n",
    "\n",
    "f1.productIterator.foreach( i => println(i))"
   ]
  },
  {
   "cell_type": "markdown",
   "metadata": {},
   "source": [
    "### Options\n",
    "\n",
    "Scala Option[ T ] is a container for zero or one element of a given type. An Option[T] can be either **Some[T]** or **None** object, which represents a missing value. \n",
    "\n",
    "```scala\n",
    "def findPerson(key: Int): Option[Person]\n",
    "\n",
    "   val capitals = Map(\"France\" -> \"Paris\", \"Japan\" -> \"Tokyo\")\n",
    "      \n",
    "      println(\"capitals.get( \\\"France\\\" ) : \" +  capitals.get( \"France\" ))\n",
    "      println(\"capitals.get( \\\"India\\\" ) : \" +  capitals.get( \"India\" ))\n",
    "\n",
    "capitals.get( \"France\" ) : Some(Paris)\n",
    "capitals.get( \"India\" ) : None\n",
    "\n",
    "  val a:Option[Int] = Some(5)\n",
    "      val b:Option[Int] = None \n",
    "      \n",
    "      println(\"a.getOrElse(0): \" + a.getOrElse(0) )\n",
    "\n",
    "```"
   ]
  },
  {
   "cell_type": "code",
   "execution_count": 17,
   "metadata": {},
   "outputs": [
    {
     "data": {
      "text/plain": [
       "\u001b[36mcap\u001b[0m: \u001b[32mMap\u001b[0m[\u001b[32mString\u001b[0m, \u001b[32mInt\u001b[0m] = \u001b[33mMap\u001b[0m(\u001b[32m\"one\"\u001b[0m -> \u001b[32m1\u001b[0m, \u001b[32m\"two\"\u001b[0m -> \u001b[32m2\u001b[0m)"
      ]
     },
     "metadata": {},
     "output_type": "display_data"
    }
   ],
   "source": [
    "val cap = Map(\"one\" -> 1, \"two\" -> 2 )"
   ]
  },
  {
   "cell_type": "code",
   "execution_count": 23,
   "metadata": {},
   "outputs": [
    {
     "data": {
      "text/plain": [
       "\u001b[36mres17\u001b[0m: \u001b[32mInt\u001b[0m = \u001b[32m1\u001b[0m"
      ]
     },
     "metadata": {},
     "output_type": "display_data"
    }
   ],
   "source": [
    "cap.get(\"one\").getOrElse(2)"
   ]
  },
  {
   "cell_type": "code",
   "execution_count": 20,
   "metadata": {},
   "outputs": [
    {
     "ename": "",
     "evalue": "",
     "output_type": "error",
     "traceback": [
      "Compilation Failed",
      "\u001b[31mMain.scala:87: not enough arguments for method getOrElse: (key: String, default: => B1)B1.",
      "Unspecified value parameter default.\r",
      "cap.getOrElse(\"three\")\r",
      "             ^\u001b[0m"
     ]
    }
   ],
   "source": []
  },
  {
   "cell_type": "code",
   "execution_count": 24,
   "metadata": {},
   "outputs": [
    {
     "data": {
      "text/plain": [
       "\u001b[36ma\u001b[0m: \u001b[32mOption\u001b[0m[\u001b[32mInt\u001b[0m] = Some(3)"
      ]
     },
     "metadata": {},
     "output_type": "display_data"
    }
   ],
   "source": [
    "val a : Option[Int] = Some(3)"
   ]
  },
  {
   "cell_type": "markdown",
   "metadata": {},
   "source": [
    "### Iterator\n",
    "\n",
    "An iterator is not a collection, but rather a way to access the elements of a collection one by one. \n",
    "\n",
    "```scala\n",
    "      val it = Iterator(\"a\", \"number\", \"of\", \"words\")\n",
    "      \n",
    "      while (it.hasNext){\n",
    "         println(it.next())\n",
    "```\n",
    "\n"
   ]
  },
  {
   "cell_type": "code",
   "execution_count": 26,
   "metadata": {},
   "outputs": [
    {
     "name": "stdout",
     "output_type": "stream",
     "text": [
      "a\n",
      "b\n",
      "c\n"
     ]
    },
    {
     "data": {
      "text/plain": [
       "\u001b[36mx1\u001b[0m: \u001b[32mIterator\u001b[0m[\u001b[32mString\u001b[0m] = empty iterator"
      ]
     },
     "metadata": {},
     "output_type": "display_data"
    }
   ],
   "source": [
    "val x1 = Iterator(\"a\",\"b\",\"c\")\n",
    "\n",
    "while ( x1.hasNext) {\n",
    "    println(x1.next())\n",
    "}"
   ]
  },
  {
   "cell_type": "code",
   "execution_count": null,
   "metadata": {},
   "outputs": [],
   "source": []
  }
 ],
 "metadata": {
  "kernelspec": {
   "display_name": "Scala 2.11",
   "language": "scala211",
   "name": "scala211"
  },
  "language_info": {
   "codemirror_mode": "text/x-scala",
   "file_extension": ".scala",
   "mimetype": "text/x-scala",
   "name": "scala211",
   "pygments_lexer": "scala",
   "version": "2.11.6"
  }
 },
 "nbformat": 4,
 "nbformat_minor": 2
}
