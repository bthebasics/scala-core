{
 "cells": [
  {
   "cell_type": "code",
   "execution_count": 1,
   "metadata": {},
   "outputs": [
    {
     "data": {
      "text/plain": [
       "\u001b[36mres0\u001b[0m: \u001b[32mString\u001b[0m = \u001b[32m\"crazycrazycrazy\"\u001b[0m"
      ]
     },
     "metadata": {},
     "output_type": "display_data"
    }
   ],
   "source": [
    "\"crazy\" * 3"
   ]
  },
  {
   "cell_type": "code",
   "execution_count": 2,
   "metadata": {},
   "outputs": [
    {
     "data": {
      "text/plain": [
       "\u001b[36mres1\u001b[0m: \u001b[32mInt\u001b[0m = \u001b[32m10\u001b[0m"
      ]
     },
     "metadata": {},
     "output_type": "display_data"
    }
   ],
   "source": [
    "10 max 2"
   ]
  },
  {
   "cell_type": "code",
   "execution_count": 3,
   "metadata": {},
   "outputs": [
    {
     "data": {
      "text/plain": [
       "\u001b[36mres2\u001b[0m: \u001b[32mInt\u001b[0m = \u001b[32m2\u001b[0m"
      ]
     },
     "metadata": {},
     "output_type": "display_data"
    }
   ],
   "source": [
    "2.hashCode"
   ]
  },
  {
   "cell_type": "code",
   "execution_count": 6,
   "metadata": {},
   "outputs": [
    {
     "data": {
      "text/plain": [
       "\u001b[36mx\u001b[0m: \u001b[32mBigInt\u001b[0m = 2\n",
       "\u001b[36mres4_1\u001b[0m: \u001b[32mBigInt\u001b[0m = 179769313486231590772930519078902473361797697894230657273430081157732675805500963132708477322407536021120113879871393357658789768814416622492847430639474124377767893424865485276302219601246094119453082952085005768838150682342462881473913110540827237163350510684586298239947245938479716304835356329624224137216"
      ]
     },
     "metadata": {},
     "output_type": "display_data"
    }
   ],
   "source": [
    "val x : BigInt  = 2\n",
    "x.pow(1024)"
   ]
  },
  {
   "cell_type": "code",
   "execution_count": 7,
   "metadata": {},
   "outputs": [
    {
     "data": {
      "text/plain": [
       "\u001b[36mres5\u001b[0m: \u001b[32mInt\u001b[0m = \u001b[32m10\u001b[0m"
      ]
     },
     "metadata": {},
     "output_type": "display_data"
    }
   ],
   "source": [
    "2 max 10"
   ]
  },
  {
   "cell_type": "code",
   "execution_count": 9,
   "metadata": {},
   "outputs": [
    {
     "data": {
      "text/plain": [
       "\u001b[36mres7\u001b[0m: \u001b[32mInt\u001b[0m = \u001b[32m15\u001b[0m"
      ]
     },
     "metadata": {},
     "output_type": "display_data"
    }
   ],
   "source": [
    "10 max 15"
   ]
  },
  {
   "cell_type": "code",
   "execution_count": 13,
   "metadata": {},
   "outputs": [
    {
     "name": "stdout",
     "output_type": "stream",
     "text": [
      "java.util.Random@2935778a"
     ]
    },
    {
     "data": {
      "text/plain": [
       "\u001b[32mimport \u001b[36mjava.util.Random\u001b[0m"
      ]
     },
     "metadata": {},
     "output_type": "display_data"
    }
   ],
   "source": [
    "import java.util.Random\n",
    "print(new Random(455))"
   ]
  },
  {
   "cell_type": "code",
   "execution_count": 14,
   "metadata": {},
   "outputs": [
    {
     "data": {
      "text/plain": [
       "\u001b[36mf\u001b[0m: \u001b[32mRandom\u001b[0m = java.util.Random@54682ba0"
      ]
     },
     "metadata": {},
     "output_type": "display_data"
    }
   ],
   "source": [
    "val f = new Random(455)"
   ]
  },
  {
   "cell_type": "code",
   "execution_count": 17,
   "metadata": {},
   "outputs": [
    {
     "data": {
      "text/plain": [
       "\u001b[36mres13\u001b[0m: \u001b[32mjava\u001b[0m.\u001b[32mutil\u001b[0m.\u001b[32mstream\u001b[0m.\u001b[32mLongStream\u001b[0m = java.util.stream.LongPipeline$Head@3a377275"
      ]
     },
     "metadata": {},
     "output_type": "display_data"
    }
   ],
   "source": [
    "f.longs"
   ]
  },
  {
   "cell_type": "code",
   "execution_count": 23,
   "metadata": {},
   "outputs": [
    {
     "data": {
      "text/plain": [
       "\u001b[36mres15\u001b[0m: \u001b[32mDouble\u001b[0m = \u001b[32m0.38077428563763327\u001b[0m"
      ]
     },
     "metadata": {},
     "output_type": "display_data"
    }
   ],
   "source": [
    "scala.math.random"
   ]
  },
  {
   "cell_type": "code",
   "execution_count": 24,
   "metadata": {},
   "outputs": [
    {
     "data": {
      "text/plain": [
       "\u001b[32mimport \u001b[36mscala.util._\u001b[0m"
      ]
     },
     "metadata": {},
     "output_type": "display_data"
    }
   ],
   "source": [
    "import scala.util._"
   ]
  },
  {
   "cell_type": "code",
   "execution_count": 29,
   "metadata": {},
   "outputs": [
    {
     "data": {
      "text/plain": [
       "\u001b[36mf\u001b[0m: \u001b[32mRandom\u001b[0m = scala.util.Random@3f57b226"
      ]
     },
     "metadata": {},
     "output_type": "display_data"
    }
   ],
   "source": [
    "val f = new Random(56662223)"
   ]
  },
  {
   "cell_type": "code",
   "execution_count": 30,
   "metadata": {},
   "outputs": [
    {
     "name": "stdout",
     "output_type": "stream",
     "text": [
      "scala.util.Random@3f57b226"
     ]
    },
    {
     "data": {
      "text/plain": []
     },
     "metadata": {},
     "output_type": "display_data"
    }
   ],
   "source": [
    "print(f)"
   ]
  },
  {
   "cell_type": "code",
   "execution_count": 33,
   "metadata": {},
   "outputs": [
    {
     "data": {
      "text/plain": [
       "\u001b[36mres25\u001b[0m: \u001b[32mString\u001b[0m = \u001b[32m\"ku0csbbf9d3jrxo7cywv2li4e\"\u001b[0m"
      ]
     },
     "metadata": {},
     "output_type": "display_data"
    }
   ],
   "source": [
    "util.Random.alphanumeric.take(25).mkString.toLowerCase"
   ]
  },
  {
   "cell_type": "code",
   "execution_count": 32,
   "metadata": {},
   "outputs": [
    {
     "data": {
      "text/plain": [
       "\u001b[36mres24\u001b[0m: \u001b[32mStream\u001b[0m[\u001b[32mChar\u001b[0m] = \u001b[33mStream\u001b[0m(\n",
       "  \u001b[32m'j'\u001b[0m,\n",
       "  \u001b[32m'A'\u001b[0m,\n",
       "  \u001b[32m'b'\u001b[0m,\n",
       "  \u001b[32m'u'\u001b[0m,\n",
       "  \u001b[32m'Q'\u001b[0m,\n",
       "  \u001b[32m'i'\u001b[0m,\n",
       "  \u001b[32m'b'\u001b[0m,\n",
       "  \u001b[32m'9'\u001b[0m,\n",
       "  \u001b[32m'N'\u001b[0m,\n",
       "  \u001b[32m'p'\u001b[0m,\n",
       "  \u001b[32m'P'\u001b[0m,\n",
       "  \u001b[32m'I'\u001b[0m,\n",
       "  \u001b[32m'z'\u001b[0m,\n",
       "  \u001b[32m'4'\u001b[0m,\n",
       "\u001b[33m...\u001b[0m"
      ]
     },
     "metadata": {},
     "output_type": "display_data"
    }
   ],
   "source": [
    "util.Random.alphanumeric."
   ]
  },
  {
   "cell_type": "code",
   "execution_count": 35,
   "metadata": {},
   "outputs": [
    {
     "data": {
      "text/plain": [
       "\u001b[36mstr\u001b[0m: \u001b[32mString\u001b[0m = \u001b[32m\"this is diff\"\u001b[0m\n",
       "\u001b[36mres27_1\u001b[0m: \u001b[32mChar\u001b[0m = \u001b[32m't'\u001b[0m"
      ]
     },
     "metadata": {},
     "output_type": "display_data"
    }
   ],
   "source": [
    "val str = \"this is diff\"\n",
    "str(0)"
   ]
  },
  {
   "cell_type": "code",
   "execution_count": 37,
   "metadata": {},
   "outputs": [
    {
     "data": {
      "text/plain": [
       "\u001b[36mres28\u001b[0m: \u001b[32mString\u001b[0m = \u001b[32m\"th\"\u001b[0m"
      ]
     },
     "metadata": {},
     "output_type": "display_data"
    }
   ],
   "source": [
    "str.take(2)"
   ]
  },
  {
   "cell_type": "code",
   "execution_count": 38,
   "metadata": {},
   "outputs": [
    {
     "data": {
      "text/plain": [
       "\u001b[36mres29\u001b[0m: \u001b[32mString\u001b[0m = \u001b[32m\" diff\"\u001b[0m"
      ]
     },
     "metadata": {},
     "output_type": "display_data"
    }
   ],
   "source": [
    "str.takeRight(5)"
   ]
  },
  {
   "cell_type": "code",
   "execution_count": 39,
   "metadata": {},
   "outputs": [
    {
     "data": {
      "text/plain": [
       "\u001b[36mres30\u001b[0m: \u001b[32mString\u001b[0m = \u001b[32m\"is is diff\"\u001b[0m"
      ]
     },
     "metadata": {},
     "output_type": "display_data"
    }
   ],
   "source": [
    "str.drop(2)"
   ]
  },
  {
   "cell_type": "code",
   "execution_count": 41,
   "metadata": {},
   "outputs": [
    {
     "data": {
      "text/plain": [
       "\u001b[36mres32\u001b[0m: \u001b[32mString\u001b[0m = \u001b[32m\"this is\"\u001b[0m"
      ]
     },
     "metadata": {},
     "output_type": "display_data"
    }
   ],
   "source": [
    "str.dropRight(5)"
   ]
  },
  {
   "cell_type": "code",
   "execution_count": 43,
   "metadata": {},
   "outputs": [
    {
     "ename": "",
     "evalue": "",
     "output_type": "error",
     "traceback": [
      "SyntaxError: found \"(\\\"s\\\")\", expected (BacktickId | PlainId) in",
      "type(\"s\")",
      "    ^"
     ]
    }
   ],
   "source": [
    "type(\"s\")"
   ]
  },
  {
   "cell_type": "code",
   "execution_count": 49,
   "metadata": {},
   "outputs": [
    {
     "name": "stdout",
     "output_type": "stream",
     "text": [
      "0\n"
     ]
    },
    {
     "data": {
      "text/plain": [
       "defined \u001b[32mfunction \u001b[36msignum\u001b[0m\n",
       "\u001b[36mres37_1\u001b[0m: \u001b[32mInt\u001b[0m = \u001b[32m0\u001b[0m"
      ]
     },
     "metadata": {},
     "output_type": "display_data"
    }
   ],
   "source": [
    "def signum( x : Int)  = {\n",
    "    println(x)\n",
    "    if ( x  > 0 ) 1\n",
    "    else if ( x < 0 ) -1\n",
    "    else 0\n",
    "}\n",
    "\n",
    "signum(0)"
   ]
  },
  {
   "cell_type": "code",
   "execution_count": 56,
   "metadata": {},
   "outputs": [
    {
     "data": {
      "text/plain": [
       "defined \u001b[32mfunction \u001b[36mtask2\u001b[0m"
      ]
     },
     "metadata": {},
     "output_type": "display_data"
    }
   ],
   "source": [
    "  def task2(): Unit = {}"
   ]
  },
  {
   "cell_type": "code",
   "execution_count": 64,
   "metadata": {},
   "outputs": [
    {
     "data": {
      "text/plain": [
       "\u001b[36mres47\u001b[0m: \u001b[32mRange\u001b[0m = \u001b[33mRange\u001b[0m()"
      ]
     },
     "metadata": {},
     "output_type": "display_data"
    }
   ],
   "source": [
    "(10 to 0).toSeq"
   ]
  },
  {
   "cell_type": "code",
   "execution_count": 53,
   "metadata": {},
   "outputs": [
    {
     "ename": "",
     "evalue": "",
     "output_type": "error",
     "traceback": [
      "Compilation Failed",
      "\u001b[31mMain.scala:142: object Date is not a member of package util\r",
      "                import scala.util.Date ; val x = { () =>\r",
      "                       ^\u001b[0m",
      "\u001b[31mMain.scala:143: not found: type Date\r",
      "new Date() \r",
      "    ^\u001b[0m"
     ]
    }
   ],
   "source": [
    "import scala.util.Date\n",
    "\n",
    "val x = new Date()\n",
    "\n",
    "def f[T](v: T) = v match {\n",
    "  case _: Int    => \"Int\"\n",
    "  case _: String => \"String\"\n",
    "  case _         => \"Unknown\"\n",
    "}\n",
    "f(x)"
   ]
  },
  {
   "cell_type": "code",
   "execution_count": 60,
   "metadata": {},
   "outputs": [
    {
     "data": {
      "text/plain": [
       "defined \u001b[32mfunction \u001b[36mx\u001b[0m"
      ]
     },
     "metadata": {},
     "output_type": "display_data"
    }
   ],
   "source": [
    "def x():Unit = {}"
   ]
  },
  {
   "cell_type": "code",
   "execution_count": 2,
   "metadata": {},
   "outputs": [
    {
     "data": {
      "text/plain": [
       "defined \u001b[32mfunction \u001b[36mcountdown\u001b[0m"
      ]
     },
     "metadata": {},
     "output_type": "display_data"
    }
   ],
   "source": [
    "def countdown(n:Int):Unit = {\n",
    "    for(i <- n to 0){\n",
    "        print(n)\n",
    "    }\n",
    "}\n",
    "\n"
   ]
  },
  {
   "cell_type": "code",
   "execution_count": 3,
   "metadata": {},
   "outputs": [
    {
     "data": {
      "text/plain": []
     },
     "metadata": {},
     "output_type": "display_data"
    }
   ],
   "source": [
    "countdown(10)"
   ]
  },
  {
   "cell_type": "code",
   "execution_count": 4,
   "metadata": {},
   "outputs": [
    {
     "name": "stdout",
     "output_type": "stream",
     "text": [
      "value of cntr = 1\n",
      "value of cntr = 2\n",
      "value of cntr = 3\n",
      "value of cntr = 4\n",
      "value of cntr = 5\n"
     ]
    },
    {
     "data": {
      "text/plain": []
     },
     "metadata": {},
     "output_type": "display_data"
    }
   ],
   "source": [
    "for ( i <- ( 1 to 5)){\n",
    "        println(s\"value of cntr = ${i}\")\n",
    "}"
   ]
  },
  {
   "cell_type": "code",
   "execution_count": 8,
   "metadata": {},
   "outputs": [
    {
     "name": "stdout",
     "output_type": "stream",
     "text": [
      "value of cntr = 10\n",
      "value of cntr = 9\n",
      "value of cntr = 8\n",
      "value of cntr = 7\n",
      "value of cntr = 6\n",
      "value of cntr = 5\n"
     ]
    },
    {
     "data": {
      "text/plain": []
     },
     "metadata": {},
     "output_type": "display_data"
    }
   ],
   "source": [
    "for ( i <- ( 10 to(5, -1))){\n",
    "        println(s\"value of cntr = ${i}\")\n",
    "}"
   ]
  },
  {
   "cell_type": "code",
   "execution_count": 16,
   "metadata": {},
   "outputs": [
    {
     "ename": "",
     "evalue": "",
     "output_type": "error",
     "traceback": [
      "scala.MatchError: Failure(PatVarSplitter:0 / `=`:13 / O:13 / \"=\":13 ...\"\", true) (of class fastparse.core.Result$Failure$Mutable)",
      "\tammonite.interpreter.Parsers$.patVarSplit(Util.scala:164)",
      "\tammonite.interpreter.Preprocessor$$anonfun$6.wrap$1(Preprocessor.scala:39)",
      "\tammonite.interpreter.Preprocessor$$anonfun$6.applyOrElse(Preprocessor.scala:50)",
      "\tammonite.interpreter.Preprocessor$$anonfun$6.applyOrElse(Preprocessor.scala:36)",
      "\tscala.PartialFunction$Lifted.apply(PartialFunction.scala:223)",
      "\tscala.PartialFunction$Lifted.apply(PartialFunction.scala:219)",
      "\tammonite.interpreter.Preprocessor$$anonfun$Processor$1.apply(Preprocessor.scala:14)",
      "\tammonite.interpreter.Preprocessor$$anonfun$Processor$1.apply(Preprocessor.scala:14)",
      "\tammonite.interpreter.Preprocessor$$anonfun$13$$anonfun$ammonite$interpreter$Preprocessor$$anonfun$$handleTree$1$1.apply(Preprocessor.scala:98)",
      "\tammonite.interpreter.Preprocessor$$anonfun$13$$anonfun$ammonite$interpreter$Preprocessor$$anonfun$$handleTree$1$1.apply(Preprocessor.scala:98)",
      "\tscala.collection.Iterator$$anon$12.hasNext(Iterator.scala:396)",
      "\tscala.collection.Iterator$$anon$12.next(Iterator.scala:397)",
      "\tammonite.interpreter.Preprocessor$$anonfun$13.ammonite$interpreter$Preprocessor$$anonfun$$handleTree$1(Preprocessor.scala:98)",
      "\tammonite.interpreter.Preprocessor$$anonfun$13.apply(Preprocessor.scala:101)",
      "\tammonite.interpreter.Preprocessor$$anonfun$13.apply(Preprocessor.scala:93)",
      "\tscala.collection.TraversableLike$WithFilter$$anonfun$map$2.apply(TraversableLike.scala:728)",
      "\tscala.collection.mutable.ResizableArray$class.foreach(ResizableArray.scala:59)",
      "\tscala.collection.mutable.ArrayBuffer.foreach(ArrayBuffer.scala:48)",
      "\tscala.collection.TraversableLike$WithFilter.map(TraversableLike.scala:727)",
      "\tammonite.interpreter.Preprocessor$.complete(Preprocessor.scala:93)",
      "\tammonite.interpreter.Preprocessor$.apply(Preprocessor.scala:84)",
      "\tammonite.interpreter.Interpreter$$anonfun$apply$6.apply(Interpreter.scala:199)",
      "\tammonite.interpreter.Interpreter$$anonfun$apply$6.apply(Interpreter.scala:195)",
      "\tammonite.interpreter.Catching.flatMap(Util.scala:73)",
      "\tammonite.interpreter.Interpreter.apply(Interpreter.scala:195)",
      "\tjupyter.scala.ScalaInterpreter$$anon$1.interpret(ScalaInterpreter.scala:189)",
      "\tjupyter.kernel.interpreter.InterpreterHandler$$anonfun$execute$1$$anonfun$apply$6.apply(InterpreterHandler.scala:100)",
      "\tjupyter.kernel.interpreter.InterpreterHandler$$anonfun$execute$1$$anonfun$apply$6.apply(InterpreterHandler.scala:82)",
      "\tjupyter.kernel.interpreter.InterpreterHandler$$anonfun$jupyter$kernel$interpreter$InterpreterHandler$$publishing$1$$anonfun$4.apply(InterpreterHandler.scala:55)",
      "\tjupyter.kernel.interpreter.InterpreterHandler$$anonfun$jupyter$kernel$interpreter$InterpreterHandler$$publishing$1$$anonfun$4.apply(InterpreterHandler.scala:55)",
      "\tscalaz.concurrent.Task$.Try(Task.scala:379)",
      "\tscalaz.concurrent.Task$$anonfun$unsafeStart$1.apply(Task.scala:290)",
      "\tscalaz.concurrent.Task$$anonfun$unsafeStart$1.apply(Task.scala:290)",
      "\tscalaz.concurrent.Future$$anonfun$apply$15$$anon$3.call(Future.scala:367)",
      "\tscalaz.concurrent.Future$$anonfun$apply$15$$anon$3.call(Future.scala:367)",
      "\tjava.util.concurrent.FutureTask.run(FutureTask.java:266)",
      "\tjava.util.concurrent.ThreadPoolExecutor.runWorker(ThreadPoolExecutor.java:1149)",
      "\tjava.util.concurrent.ThreadPoolExecutor$Worker.run(ThreadPoolExecutor.java:624)",
      "\tjava.lang.Thread.run(Thread.java:748)",
      "Something unexpected went wrong =("
     ]
    }
   ],
   "source": []
  },
  {
   "cell_type": "code",
   "execution_count": 16,
   "metadata": {},
   "outputs": [
    {
     "name": "stdout",
     "output_type": "stream",
     "text": [
      "H\n",
      "e\n",
      "l\n",
      "l\n",
      "o\n",
      "825152896\n"
     ]
    },
    {
     "data": {
      "text/plain": [
       "\u001b[36mprdct\u001b[0m: \u001b[32mInt\u001b[0m = \u001b[32m825152896\u001b[0m\n",
       "\u001b[36mStr\u001b[0m: \u001b[32mString\u001b[0m = \u001b[32m\"Hello\"\u001b[0m"
      ]
     },
     "metadata": {},
     "output_type": "display_data"
    }
   ],
   "source": [
    "var prdct = 1\n",
    "var Str = \"Hello\"\n",
    "    for (i <- Str) {\n",
    "      prdct = prdct * (i.toInt)\n",
    "        println(i)\n",
    "    }\n",
    "\n",
    "println(prdct)"
   ]
  },
  {
   "cell_type": "markdown",
   "metadata": {},
   "source": [
    "var x1:Boolean = true"
   ]
  },
  {
   "cell_type": "code",
   "execution_count": 25,
   "metadata": {},
   "outputs": [
    {
     "data": {
      "text/plain": []
     },
     "metadata": {},
     "output_type": "display_data"
    }
   ],
   "source": [
    "var x1:Unit = {}\n",
    "var y1:Unit = {}\n"
   ]
  },
  {
   "cell_type": "code",
   "execution_count": 26,
   "metadata": {},
   "outputs": [
    {
     "data": {
      "text/plain": []
     },
     "metadata": {},
     "output_type": "display_data"
    }
   ],
   "source": [
    "x1 = y1 = 1"
   ]
  },
  {
   "cell_type": "code",
   "execution_count": 27,
   "metadata": {},
   "outputs": [
    {
     "data": {
      "text/plain": [
       "\u001b[36mprdct\u001b[0m: \u001b[32mInt\u001b[0m = \u001b[32m825152896\u001b[0m"
      ]
     },
     "metadata": {},
     "output_type": "display_data"
    }
   ],
   "source": [
    "var prdct = 1\n",
    "for ( i <- Str) prdct = (prdct * ( i.toInt))"
   ]
  },
  {
   "cell_type": "code",
   "execution_count": 29,
   "metadata": {},
   "outputs": [
    {
     "data": {
      "text/plain": [
       "\u001b[36mres21\u001b[0m: \u001b[32mInt\u001b[0m = \u001b[32m825152896\u001b[0m"
      ]
     },
     "metadata": {},
     "output_type": "display_data"
    }
   ],
   "source": [
    "Str.map(_.toInt).product"
   ]
  },
  {
   "cell_type": "code",
   "execution_count": 35,
   "metadata": {},
   "outputs": [
    {
     "data": {
      "text/plain": [
       "defined \u001b[32mfunction \u001b[36mrecProd\u001b[0m"
      ]
     },
     "metadata": {},
     "output_type": "display_data"
    }
   ],
   "source": [
    " def recProd(s: String):Int = {\n",
    "      if ( s.length == 1)  \n",
    "        1\n",
    "      else \n",
    "        s(0).toInt * recProd(s.take(s.length - 1))\n",
    "    }"
   ]
  },
  {
   "cell_type": "code",
   "execution_count": 36,
   "metadata": {},
   "outputs": [
    {
     "data": {
      "text/plain": [
       "\u001b[36mres27\u001b[0m: \u001b[32mInt\u001b[0m = \u001b[32m26873856\u001b[0m"
      ]
     },
     "metadata": {},
     "output_type": "display_data"
    }
   ],
   "source": [
    "recProd(\"Hello\")"
   ]
  },
  {
   "cell_type": "code",
   "execution_count": 39,
   "metadata": {},
   "outputs": [
    {
     "data": {
      "text/plain": [
       "defined \u001b[32mfunction \u001b[36mrecProd\u001b[0m"
      ]
     },
     "metadata": {},
     "output_type": "display_data"
    }
   ],
   "source": [
    " def recProd(s: String):Int = {\n",
    "      if ( s.length == 1)  \n",
    "        1\n",
    "      else \n",
    "        s.head.toInt * recProd(s.tail)\n",
    "    }"
   ]
  },
  {
   "cell_type": "code",
   "execution_count": 40,
   "metadata": {},
   "outputs": [
    {
     "data": {
      "text/plain": [
       "\u001b[36mres31\u001b[0m: \u001b[32mInt\u001b[0m = \u001b[32m84820608\u001b[0m"
      ]
     },
     "metadata": {},
     "output_type": "display_data"
    }
   ],
   "source": [
    "recProd(\"Hello\")"
   ]
  },
  {
   "cell_type": "code",
   "execution_count": null,
   "metadata": {},
   "outputs": [],
   "source": []
  }
 ],
 "metadata": {
  "kernelspec": {
   "display_name": "Scala 2.11",
   "language": "scala211",
   "name": "scala211"
  },
  "language_info": {
   "codemirror_mode": "text/x-scala",
   "file_extension": ".scala",
   "mimetype": "text/x-scala",
   "name": "scala211",
   "pygments_lexer": "scala",
   "version": "2.11.6"
  }
 },
 "nbformat": 4,
 "nbformat_minor": 2
}
