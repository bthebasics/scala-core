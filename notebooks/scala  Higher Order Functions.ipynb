{
 "cells": [
  {
   "cell_type": "markdown",
   "metadata": {},
   "source": [
    "#### Higher Order Functions\n",
    "\n",
    "Higher order functions takes functions as argument - please refer to below examples\n",
    "\n",
    "```scala\n",
    "val Double = ( x :Int) => x*2\n",
    "val HigherOrderfns = ( x: Int, y: Int => Int) = y(x)\n",
    "// call to HOF\n",
    "HigherOrderfns(2, Double) // evaluated to 10\n",
    "\n",
    "```\n",
    "\n",
    "#### Closures\n",
    "\n",
    "Closures are the type of functions, which will depend upon values or variable declared outside the function\n",
    "\n",
    "```scala\n",
    "var multiFactor = 3  // here \"multiFactor\" variable is declared outside the function\n",
    "val multiplier = ( x:Int ) => multiFactor * x\n",
    "```\n",
    "\n",
    "#### Function Declaration Types\n",
    "\n",
    "```scala\n",
    "// Regular Declarations\n",
    "\n",
    "def methodName( Args ): ReturnType = {\n",
    "    //defination\n",
    "    //return value\n",
    "}\n",
    "\n",
    "// Anonymous Functions\n",
    "val x = ( input: InputType ) => Defination //  e.g x*2\n",
    "\n",
    "// HOF - Higher Order function\n",
    "\n",
    "val y = ( input:InputType, Function: Type => ReturnType ) => defination // Function(Input)\n",
    "or def hof( input:InputType, Function: Type => ReturnType )  => defination // Function(Input)\n",
    "```\n",
    "\n",
    "\n",
    "\n",
    "\n",
    "\n",
    "\n",
    "\n",
    "\n",
    "\n"
   ]
  },
  {
   "cell_type": "code",
   "execution_count": 7,
   "metadata": {},
   "outputs": [
    {
     "data": {
      "text/plain": [
       "\u001b[36mDoubles\u001b[0m: \u001b[32mInt\u001b[0m => \u001b[32mInt\u001b[0m = <function1>\n",
       "defined \u001b[32mfunction \u001b[36mHOF\u001b[0m\n",
       "\u001b[36mres6_2\u001b[0m: \u001b[32mInt\u001b[0m = \u001b[32m12\u001b[0m"
      ]
     },
     "metadata": {},
     "output_type": "display_data"
    }
   ],
   "source": [
    "val Doubles = ( x: Int) => x*2\n",
    "def HOF(x: Int, y:Int => Int) = y(x)\n",
    "HOF(6,Doubles)"
   ]
  },
  {
   "cell_type": "code",
   "execution_count": 6,
   "metadata": {},
   "outputs": [
    {
     "data": {
      "text/plain": [
       "\u001b[36mDoubles\u001b[0m: \u001b[32mInt\u001b[0m => \u001b[32mInt\u001b[0m = <function1>\n",
       "defined \u001b[32mfunction \u001b[36mHOF\u001b[0m\n",
       "\u001b[36mres5_2\u001b[0m: \u001b[32mInt\u001b[0m = \u001b[32m12\u001b[0m"
      ]
     },
     "metadata": {},
     "output_type": "display_data"
    }
   ],
   "source": [
    "val Doubles = ( x: Int) => x*2"
   ]
  },
  {
   "cell_type": "code",
   "execution_count": 15,
   "metadata": {},
   "outputs": [
    {
     "data": {
      "text/plain": [
       "\u001b[36mHOF2\u001b[0m: (\u001b[32mInt\u001b[0m, \u001b[32mInt\u001b[0m => \u001b[32mInt\u001b[0m) => \u001b[32mInt\u001b[0m = <function2>"
      ]
     },
     "metadata": {},
     "output_type": "display_data"
    }
   ],
   "source": [
    "val HOF2 = (x: Int, y:Int => Int) => y(x) // alternate defination type without def"
   ]
  },
  {
   "cell_type": "code",
   "execution_count": 13,
   "metadata": {},
   "outputs": [
    {
     "data": {
      "text/plain": [
       "defined \u001b[32mfunction \u001b[36msayHello\u001b[0m\n",
       "\u001b[36mres12_1\u001b[0m: \u001b[32mString\u001b[0m = \u001b[32m\"Hello \"\u001b[0m"
      ]
     },
     "metadata": {},
     "output_type": "display_data"
    }
   ],
   "source": [
    "def sayHello = ( x: String) => \"Hello \" + x\n",
    "sayHello(\"\")"
   ]
  },
  {
   "cell_type": "code",
   "execution_count": 14,
   "metadata": {},
   "outputs": [
    {
     "data": {
      "text/plain": [
       "\u001b[36mres13\u001b[0m: \u001b[32mInt\u001b[0m = \u001b[32m6\u001b[0m"
      ]
     },
     "metadata": {},
     "output_type": "display_data"
    }
   ],
   "source": []
  },
  {
   "cell_type": "code",
   "execution_count": null,
   "metadata": {},
   "outputs": [],
   "source": []
  }
 ],
 "metadata": {
  "kernelspec": {
   "display_name": "Scala 2.11",
   "language": "scala211",
   "name": "scala211"
  },
  "language_info": {
   "codemirror_mode": "text/x-scala",
   "file_extension": ".scala",
   "mimetype": "text/x-scala",
   "name": "scala211",
   "pygments_lexer": "scala",
   "version": "2.11.6"
  }
 },
 "nbformat": 4,
 "nbformat_minor": 2
}
