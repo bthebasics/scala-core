{
 "cells": [
  {
   "cell_type": "markdown",
   "metadata": {},
   "source": [
    "### Scala - Exception Handling\n",
    "\n",
    "Scala allows you to **try/catch** any exception in a single block and then perform pattern matching against it using **case** blocks.\n",
    "\n",
    "```scala\n",
    "import java.io.FileReader\n",
    "import java.io.FileNotFoundException\n",
    "import java.io.IOException\n",
    "\n",
    "val f = new FileReader(\"input.txt\")\n",
    "\n",
    "try {\n",
    "         val f = new FileReader(\"input.txt\")\n",
    "      } catch {\n",
    "         case ex: FileNotFoundException =>{\n",
    "            println(\"Missing file exception\")\n",
    "         }\n",
    "         \n",
    "         case ex: IOException => {\n",
    "            println(\"IO Exception\")\n",
    "         }\n",
    "      }\n",
    "```\n",
    "\n",
    "### Extractors\n",
    "\n",
    "An extractor in Scala is an object that has a method called **unapply** as one of its members. The purpose of that unapply method is to match a value and take it apart. Often, the extractor object also defines a dual method **apply** for building values, but this is not required.\n",
    "\n",
    "```scala\n",
    "   // The injection method (optional)\n",
    "   def apply(user: String, domain: String) = {\n",
    "      user +\"@\"+ domain\n",
    "   }\n",
    "\n",
    "   // The extraction method (mandatory)\n",
    "   def unapply(str: String): Option[(String, String)] = {\n",
    "      val parts = str split \"@\"\n",
    "      \n",
    "      if (parts.length == 2){\n",
    "         Some(parts(0), parts(1)) \n",
    "      } else {\n",
    "         None\n",
    "      }\n",
    "   }\n",
    "```\n",
    "\n"
   ]
  },
  {
   "cell_type": "code",
   "execution_count": 6,
   "metadata": {},
   "outputs": [
    {
     "name": "stdout",
     "output_type": "stream",
     "text": [
      "Your program failed with error\n",
      "Dont devide by zero!\n"
     ]
    },
    {
     "data": {
      "text/plain": [
       "\u001b[32mimport \u001b[36mio.Source._\u001b[0m"
      ]
     },
     "metadata": {},
     "output_type": "display_data"
    }
   ],
   "source": [
    "import io.Source._\n",
    "\n",
    "try {\n",
    "    for ( i <- fromFile(\"noFile.txt\").getLines()){\n",
    "        println(i)\n",
    "    }\n",
    "} catch {\n",
    "   // case e:FileNotFoundException => println(\"file was not found\")\n",
    "    case _ :Exception => println(\"Your program failed with error\") \n",
    "}\n",
    "\n",
    "try {\n",
    "    val quotient = 10/0\n",
    "}\n",
    "catch {\n",
    "    case _:Exception => println(\"Dont devide by zero!\")\n",
    "}"
   ]
  },
  {
   "cell_type": "code",
   "execution_count": 8,
   "metadata": {},
   "outputs": [
    {
     "name": "stdout",
     "output_type": "stream",
     "text": [
      "unknown exception : java.lang.ArithmeticException: / by zero\n"
     ]
    },
    {
     "data": {
      "text/plain": []
     },
     "metadata": {},
     "output_type": "display_data"
    }
   ],
   "source": [
    "try {\n",
    "    val num = 10/0\n",
    "    \n",
    "} catch {\n",
    "    case unknown => println(\"unknown exception : \" + unknown)\n",
    "}\n",
    "finally {\n",
    "    // close db connection / spark session etc.\n",
    "}\n"
   ]
  },
  {
   "cell_type": "code",
   "execution_count": null,
   "metadata": {},
   "outputs": [],
   "source": []
  }
 ],
 "metadata": {
  "kernelspec": {
   "display_name": "Scala 2.11",
   "language": "scala211",
   "name": "scala211"
  },
  "language_info": {
   "codemirror_mode": "text/x-scala",
   "file_extension": ".scala",
   "mimetype": "text/x-scala",
   "name": "scala211",
   "pygments_lexer": "scala",
   "version": "2.11.6"
  }
 },
 "nbformat": 4,
 "nbformat_minor": 2
}
