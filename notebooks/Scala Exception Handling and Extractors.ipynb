{
 "cells": [
  {
   "cell_type": "markdown",
   "metadata": {},
   "source": [
    "### Scala - Exception Handling\n",
    "\n",
    "Scala allows you to **try/catch** any exception in a single block and then perform pattern matching against it using **case** blocks.\n",
    "\n",
    "```scala\n",
    "import java.io.FileReader\n",
    "import java.io.FileNotFoundException\n",
    "import java.io.IOException\n",
    "\n",
    "val f = new FileReader(\"input.txt\")\n",
    "\n",
    "try {\n",
    "         val f = new FileReader(\"input.txt\")\n",
    "      } catch {\n",
    "         case ex: FileNotFoundException =>{\n",
    "            println(\"Missing file exception\")\n",
    "         }\n",
    "         \n",
    "         case ex: IOException => {\n",
    "            println(\"IO Exception\")\n",
    "         }\n",
    "      }\n",
    "```\n",
    "\n",
    "### Extractors\n",
    "\n",
    "An extractor in Scala is an object that has a method called **unapply** as one of its members. The purpose of that unapply method is to match a value and take it apart. Often, the extractor object also defines a dual method **apply** for building values, but this is not required.\n",
    "\n",
    "```scala\n",
    "   // The injection method (optional)\n",
    "   def apply(user: String, domain: String) = {\n",
    "      user +\"@\"+ domain\n",
    "   }\n",
    "\n",
    "   // The extraction method (mandatory)\n",
    "   def unapply(str: String): Option[(String, String)] = {\n",
    "      val parts = str split \"@\"\n",
    "      \n",
    "      if (parts.length == 2){\n",
    "         Some(parts(0), parts(1)) \n",
    "      } else {\n",
    "         None\n",
    "      }\n",
    "   }\n",
    "```\n",
    "\n"
   ]
  },
  {
   "cell_type": "code",
   "execution_count": null,
   "metadata": {},
   "outputs": [],
   "source": []
  }
 ],
 "metadata": {
  "kernelspec": {
   "display_name": "Scala 2.11",
   "language": "scala211",
   "name": "scala211"
  },
  "language_info": {
   "codemirror_mode": "text/x-scala",
   "file_extension": ".scala",
   "mimetype": "text/x-scala",
   "name": "scala211",
   "pygments_lexer": "scala",
   "version": "2.11.6"
  }
 },
 "nbformat": 4,
 "nbformat_minor": 2
}
