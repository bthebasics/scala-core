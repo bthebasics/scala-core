{
 "cells": [
  {
   "cell_type": "markdown",
   "metadata": {},
   "source": [
    "#### Reading Files\n",
    "\n",
    "Using Scala io.Source Library\n",
    "\n",
    "```scala\n",
    "import io.Source._\n",
    "\n",
    "object readFiles extends App{\n",
    "    val filepath = \"rainbow.txt\"\n",
    "    for ( Lines <- fromFile(filepath).getLines){\n",
    "        println(Lines)\n",
    "    }\n",
    "}\n",
    "```\n",
    "\n",
    "You can also use all of the **java** libraries - \n",
    "\n",
    "```scala\n",
    "import java.io.{BufferedReader, File, FileInputStream, InputStream}\n",
    "\n",
    "val filePath = \"rainbow.txt\"\n",
    "val srcFileObj = new File(filePath)\n",
    "\n",
    " def checkFile(srcFile: File) = {\n",
    "    println(\"****************************************\")\n",
    "    //val srcFile = new File(filePath)\n",
    "    println(s\"AbsolutePath       | ${srcFile.getAbsolutePath()}\")\n",
    "    println(s\"file Exists        | ${srcFile.exists()}\")\n",
    "    println(s\"is File            | ${srcFile.isFile}\")\n",
    "    println(s\"is Directory       | ${srcFile.isDirectory()}\")\n",
    "  }\n",
    "\n",
    "  val is = new FileInputStream(srcFileObj)\n",
    "  val jsonText =  scala.io.Source.fromInputStream(is).mkString\n",
    "\n",
    "```\n",
    "\n"
   ]
  },
  {
   "cell_type": "code",
   "execution_count": null,
   "metadata": {},
   "outputs": [],
   "source": []
  }
 ],
 "metadata": {
  "kernelspec": {
   "display_name": "Scala 2.11",
   "language": "scala211",
   "name": "scala211"
  },
  "language_info": {
   "codemirror_mode": "text/x-scala",
   "file_extension": ".scala",
   "mimetype": "text/x-scala",
   "name": "scala211",
   "pygments_lexer": "scala",
   "version": "2.11.6"
  }
 },
 "nbformat": 4,
 "nbformat_minor": 2
}
