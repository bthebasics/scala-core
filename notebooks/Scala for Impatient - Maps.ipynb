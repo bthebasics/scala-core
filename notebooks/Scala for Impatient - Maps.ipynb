{
 "cells": [
  {
   "cell_type": "markdown",
   "metadata": {},
   "source": [
    "### map"
   ]
  },
  {
   "cell_type": "code",
   "execution_count": 4,
   "metadata": {},
   "outputs": [
    {
     "data": {
      "text/plain": [
       "\u001b[36mscores\u001b[0m: \u001b[32mMap\u001b[0m[\u001b[32mString\u001b[0m, \u001b[32mInt\u001b[0m] = \u001b[33mMap\u001b[0m(\u001b[32m\"Alice\"\u001b[0m -> \u001b[32m10\u001b[0m, \u001b[32m\"Bob\"\u001b[0m -> \u001b[32m3\u001b[0m, \u001b[32m\"Cindy\"\u001b[0m -> \u001b[32m8\u001b[0m)"
      ]
     },
     "metadata": {},
     "output_type": "display_data"
    }
   ],
   "source": [
    "var scores = Map((\"Alice\", 10), (\"Bob\", 3), (\"Cindy\", 8))"
   ]
  },
  {
   "cell_type": "code",
   "execution_count": 2,
   "metadata": {},
   "outputs": [
    {
     "data": {
      "text/plain": [
       "\u001b[36mbobsScore\u001b[0m: \u001b[32mInt\u001b[0m = \u001b[32m3\u001b[0m"
      ]
     },
     "metadata": {},
     "output_type": "display_data"
    }
   ],
   "source": [
    "val bobsScore = scores.getOrElse(\"Bob\", 0)"
   ]
  },
  {
   "cell_type": "code",
   "execution_count": 5,
   "metadata": {},
   "outputs": [
    {
     "data": {
      "text/plain": []
     },
     "metadata": {},
     "output_type": "display_data"
    }
   ],
   "source": [
    "scores += (\"Bob\" -> 10, \"Fred\" -> 7)"
   ]
  },
  {
   "cell_type": "code",
   "execution_count": 6,
   "metadata": {},
   "outputs": [
    {
     "data": {
      "text/plain": []
     },
     "metadata": {},
     "output_type": "display_data"
    }
   ],
   "source": [
    "scores -= \"Alice\""
   ]
  },
  {
   "cell_type": "code",
   "execution_count": 7,
   "metadata": {},
   "outputs": [
    {
     "data": {
      "text/plain": [
       "\u001b[36mnewScores\u001b[0m: \u001b[32mMap\u001b[0m[\u001b[32mString\u001b[0m, \u001b[32mInt\u001b[0m] = \u001b[33mMap\u001b[0m(\u001b[32m\"Bob\"\u001b[0m -> \u001b[32m10\u001b[0m, \u001b[32m\"Cindy\"\u001b[0m -> \u001b[32m8\u001b[0m, \u001b[32m\"Fred\"\u001b[0m -> \u001b[32m7\u001b[0m)"
      ]
     },
     "metadata": {},
     "output_type": "display_data"
    }
   ],
   "source": [
    "val newScores = scores + (\"Bob\" -> 10, \"Fred\" -> 7) // New map with update"
   ]
  },
  {
   "cell_type": "code",
   "execution_count": 9,
   "metadata": {},
   "outputs": [
    {
     "name": "stdout",
     "output_type": "stream",
     "text": [
      "10\n",
      "8\n",
      "7\n"
     ]
    },
    {
     "data": {
      "text/plain": []
     },
     "metadata": {},
     "output_type": "display_data"
    }
   ],
   "source": [
    "for (v <- scores.values) println(v) // Prints 10 8 7 10 or some permutation thereof"
   ]
  },
  {
   "cell_type": "markdown",
   "metadata": {},
   "source": [
    "### Tuples\n",
    "Maps are collections of key/value pairs. Pairs are the simplest case of tuples—\n",
    "aggregates of values of different types."
   ]
  },
  {
   "cell_type": "code",
   "execution_count": 14,
   "metadata": {},
   "outputs": [
    {
     "data": {
      "text/plain": [
       "\u001b[36mt\u001b[0m: (\u001b[32mInt\u001b[0m, \u001b[32mDouble\u001b[0m, \u001b[32mString\u001b[0m) = \u001b[33m\u001b[0m(\u001b[32m1\u001b[0m, \u001b[32m3.14\u001b[0m, \u001b[32m\"Fred\"\u001b[0m)\n",
       "\u001b[36mfirst\u001b[0m: \u001b[32mInt\u001b[0m = \u001b[32m1\u001b[0m\n",
       "\u001b[36msecond\u001b[0m: \u001b[32mDouble\u001b[0m = \u001b[32m3.14\u001b[0m\n",
       "\u001b[36mthird\u001b[0m: \u001b[32mString\u001b[0m = \u001b[32m\"Fred\"\u001b[0m"
      ]
     },
     "metadata": {},
     "output_type": "display_data"
    }
   ],
   "source": [
    "val t = (1, 3.14, \"Fred\")\n",
    "var (first, second, third) = t // Sets first to 1, second to 3.14, third to \"Fred\"\n"
   ]
  },
  {
   "cell_type": "code",
   "execution_count": 15,
   "metadata": {},
   "outputs": [
    {
     "data": {
      "text/plain": [
       "\u001b[36mfirst\u001b[0m: \u001b[32mInt\u001b[0m = \u001b[32m1\u001b[0m\n",
       "\u001b[36msecond\u001b[0m: \u001b[32mDouble\u001b[0m = \u001b[32m3.14\u001b[0m"
      ]
     },
     "metadata": {},
     "output_type": "display_data"
    }
   ],
   "source": [
    "val (first, second, _) = t"
   ]
  },
  {
   "cell_type": "code",
   "execution_count": 16,
   "metadata": {},
   "outputs": [
    {
     "data": {
      "text/plain": [
       "\u001b[36mres11\u001b[0m: (\u001b[32mString\u001b[0m, \u001b[32mString\u001b[0m) = \u001b[33m\u001b[0m(\u001b[32m\"NY\"\u001b[0m, \u001b[32m\"ew ork\"\u001b[0m)"
      ]
     },
     "metadata": {},
     "output_type": "display_data"
    }
   ],
   "source": [
    "\"New York\".partition(_.isUpper) // Yields the pair (\"NY\", \"ew ork\")"
   ]
  },
  {
   "cell_type": "code",
   "execution_count": 18,
   "metadata": {},
   "outputs": [
    {
     "name": "stdout",
     "output_type": "stream",
     "text": [
      "<<---------->>"
     ]
    },
    {
     "data": {
      "text/plain": [
       "\u001b[36msymbols\u001b[0m: \u001b[32mArray\u001b[0m[\u001b[32mString\u001b[0m] = \u001b[33mArray\u001b[0m(\u001b[32m\"<\"\u001b[0m, \u001b[32m\"-\"\u001b[0m, \u001b[32m\">\"\u001b[0m)\n",
       "\u001b[36mcounts\u001b[0m: \u001b[32mArray\u001b[0m[\u001b[32mInt\u001b[0m] = \u001b[33mArray\u001b[0m(\u001b[32m2\u001b[0m, \u001b[32m10\u001b[0m, \u001b[32m2\u001b[0m)\n",
       "\u001b[36mpairs\u001b[0m: \u001b[32mArray\u001b[0m[(\u001b[32mString\u001b[0m, \u001b[32mInt\u001b[0m)] = \u001b[33mArray\u001b[0m(\n",
       "  \u001b[33m\u001b[0m(\u001b[32m\"<\"\u001b[0m, \u001b[32m2\u001b[0m),\n",
       "  \u001b[33m\u001b[0m(\u001b[32m\"-\"\u001b[0m, \u001b[32m10\u001b[0m),\n",
       "  \u001b[33m\u001b[0m(\u001b[32m\">\"\u001b[0m, \u001b[32m2\u001b[0m)\n",
       ")"
      ]
     },
     "metadata": {},
     "output_type": "display_data"
    }
   ],
   "source": [
    "val symbols = Array(\"<\", \"-\", \">\")\n",
    "val counts = Array(2, 10, 2)\n",
    "val pairs = symbols.zip(counts)\n",
    "for ((s, n) <- pairs) Console.print(s * n) // Prints <<---------->>"
   ]
  },
  {
   "cell_type": "markdown",
   "metadata": {},
   "source": [
    "## Exercises"
   ]
  },
  {
   "cell_type": "code",
   "execution_count": null,
   "metadata": {},
   "outputs": [],
   "source": []
  },
  {
   "cell_type": "markdown",
   "metadata": {},
   "source": [
    "**1. Set up a map of prices for a number of gizmos that you covet. Then produce a second map with the same keys and the prices at a 10 percent discount.**"
   ]
  },
  {
   "cell_type": "code",
   "execution_count": 70,
   "metadata": {},
   "outputs": [
    {
     "data": {
      "text/plain": [
       "\u001b[36mprices\u001b[0m: \u001b[32mcollection\u001b[0m.\u001b[32mmutable\u001b[0m.\u001b[32mMap\u001b[0m[\u001b[32mString\u001b[0m, \u001b[32mFloat\u001b[0m] = \u001b[33mMap\u001b[0m(\n",
       "  \u001b[32m\"Camera\"\u001b[0m -> \u001b[32m700.0\u001b[0mF,\n",
       "  \u001b[32m\"TV\"\u001b[0m -> \u001b[32m100.0\u001b[0mF,\n",
       "  \u001b[32m\"Mobile\"\u001b[0m -> \u001b[32m400.0\u001b[0mF\n",
       ")"
      ]
     },
     "metadata": {},
     "output_type": "display_data"
    }
   ],
   "source": [
    "val prices: scala.collection.mutable.Map[String, Float]  = scala.collection.mutable.Map(\"TV\" -> 100F, \"Camera\" -> 700F, \"Mobile\" -> 400F)"
   ]
  },
  {
   "cell_type": "code",
   "execution_count": 71,
   "metadata": {},
   "outputs": [
    {
     "data": {
      "text/plain": [
       "\u001b[36mdiscountPrices\u001b[0m: \u001b[32mcollection\u001b[0m.\u001b[32mmutable\u001b[0m.\u001b[32mMap\u001b[0m[\u001b[32mString\u001b[0m, \u001b[32mFloat\u001b[0m] = \u001b[33mMap\u001b[0m(\n",
       "  \u001b[32m\"Camera\"\u001b[0m -> \u001b[32m700.0\u001b[0mF,\n",
       "  \u001b[32m\"TV\"\u001b[0m -> \u001b[32m100.0\u001b[0mF,\n",
       "  \u001b[32m\"Mobile\"\u001b[0m -> \u001b[32m400.0\u001b[0mF\n",
       ")"
      ]
     },
     "metadata": {},
     "output_type": "display_data"
    }
   ],
   "source": [
    "var discountPrices: scala.collection.mutable.Map[String, Float] = prices"
   ]
  },
  {
   "cell_type": "code",
   "execution_count": 72,
   "metadata": {},
   "outputs": [
    {
     "data": {
      "text/plain": []
     },
     "metadata": {},
     "output_type": "display_data"
    }
   ],
   "source": [
    " for ((k,v) <- discountPrices) discountPrices(k) = (v * 0.90).toFloat"
   ]
  },
  {
   "cell_type": "code",
   "execution_count": 73,
   "metadata": {},
   "outputs": [
    {
     "data": {
      "text/plain": [
       "\u001b[36mres41\u001b[0m: \u001b[32mcollection\u001b[0m.\u001b[32mmutable\u001b[0m.\u001b[32mMap\u001b[0m[\u001b[32mString\u001b[0m, \u001b[32mFloat\u001b[0m] = \u001b[33mMap\u001b[0m(\n",
       "  \u001b[32m\"Camera\"\u001b[0m -> \u001b[32m630.0\u001b[0mF,\n",
       "  \u001b[32m\"TV\"\u001b[0m -> \u001b[32m90.0\u001b[0mF,\n",
       "  \u001b[32m\"Mobile\"\u001b[0m -> \u001b[32m360.0\u001b[0mF\n",
       ")"
      ]
     },
     "metadata": {},
     "output_type": "display_data"
    }
   ],
   "source": [
    "discountPrices"
   ]
  },
  {
   "cell_type": "markdown",
   "metadata": {},
   "source": [
    "** 2. Write a program that reads words from a file. Use a mutable map to count how often each word appears. To read the words, simply use a java.util.Scanner:  Or look at Chapter 9 for a Scalaesque way. At the end, print out all words and their counts**\n",
    "``` scala \n",
    "val in = new java.util.Scanner(java.io.File(\"myfile.txt\"))\n",
    "while (in.hasNext()) process in.next()\n",
    "```"
   ]
  },
  {
   "cell_type": "code",
   "execution_count": 74,
   "metadata": {},
   "outputs": [
    {
     "data": {
      "text/plain": [
       "\u001b[36mwords\u001b[0m: \u001b[32mcollection\u001b[0m.\u001b[32mmutable\u001b[0m.\u001b[32mHashMap\u001b[0m[\u001b[32mString\u001b[0m, \u001b[32mInt\u001b[0m] = \u001b[33mMap\u001b[0m()"
      ]
     },
     "metadata": {},
     "output_type": "display_data"
    }
   ],
   "source": [
    "    val words = new collection.mutable.HashMap[String, Int]\n"
   ]
  },
  {
   "cell_type": "code",
   "execution_count": 78,
   "metadata": {},
   "outputs": [
    {
     "data": {
      "text/plain": []
     },
     "metadata": {},
     "output_type": "display_data"
    }
   ],
   "source": [
    "words(\"abc\") = words.getOrElse(\"abc\", 0 ) + 1"
   ]
  },
  {
   "cell_type": "code",
   "execution_count": 79,
   "metadata": {},
   "outputs": [
    {
     "data": {
      "text/plain": [
       "\u001b[36mres47\u001b[0m: \u001b[32mInt\u001b[0m = \u001b[32m2\u001b[0m"
      ]
     },
     "metadata": {},
     "output_type": "display_data"
    }
   ],
   "source": [
    "words.getOrElse(\"abc\", 0 )"
   ]
  },
  {
   "cell_type": "code",
   "execution_count": 82,
   "metadata": {},
   "outputs": [
    {
     "data": {
      "text/plain": []
     },
     "metadata": {},
     "output_type": "display_data"
    }
   ],
   "source": [
    "words(\"xxx\") = words.getOrElse(\"xxx\",1)"
   ]
  },
  {
   "cell_type": "code",
   "execution_count": 83,
   "metadata": {},
   "outputs": [
    {
     "data": {
      "text/plain": [
       "\u001b[36mres50\u001b[0m: \u001b[32mcollection\u001b[0m.\u001b[32mmutable\u001b[0m.\u001b[32mHashMap\u001b[0m[\u001b[32mString\u001b[0m, \u001b[32mInt\u001b[0m] = \u001b[33mMap\u001b[0m(\u001b[32m\"xxx\"\u001b[0m -> \u001b[32m1\u001b[0m, \u001b[32m\"abc\"\u001b[0m -> \u001b[32m2\u001b[0m)"
      ]
     },
     "metadata": {},
     "output_type": "display_data"
    }
   ],
   "source": [
    "words"
   ]
  },
  {
   "cell_type": "code",
   "execution_count": null,
   "metadata": {},
   "outputs": [],
   "source": []
  }
 ],
 "metadata": {
  "kernelspec": {
   "display_name": "Scala 2.11",
   "language": "scala211",
   "name": "scala211"
  },
  "language_info": {
   "codemirror_mode": "text/x-scala",
   "file_extension": ".scala",
   "mimetype": "text/x-scala",
   "name": "scala211",
   "pygments_lexer": "scala",
   "version": "2.11.6"
  }
 },
 "nbformat": 4,
 "nbformat_minor": 2
}
